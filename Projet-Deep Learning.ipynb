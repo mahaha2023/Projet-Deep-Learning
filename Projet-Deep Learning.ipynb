{
 "cells": [
  {
   "cell_type": "markdown",
   "metadata": {
    "id": "HaPMnBm6wYVn"
   },
   "source": [
    "# Université Paris Dauphine-PSL\n",
    "\n",
    "# Master Big data et Statistiques\n",
    "\n",
    "# Projet de Deep Learning sur la classification\n",
    "\n",
    "# Réalisé par: Mahamat Hassan Issa"
   ]
  },
  {
   "cell_type": "markdown",
   "metadata": {
    "id": "bOMlCtpbwkLx"
   },
   "source": [
    "### Les données\n",
    "\n",
    "Nous utiliserons un sous-ensemble de l'ensemble de données du LendingClub obtenu auprès de Kaggle : https://www.kaggle.com/wordsforthewise/lending-club\n",
    "\n",
    "## NOTE : Ne pas télécharger le zip complet à partir du lien ! Nous fournissons une version spéciale de ce fichier qui contient des fonctionnalités supplémentaires que vous pouvez utiliser. Vous ne pourrez pas suivre la suite avec le fichier d'origine !\n",
    "\n",
    "LendingClub est une société américaine de prêt entre pairs, dont le siège se trouve à San Francisco, en Californie[3]. Elle a été la première société de prêt entre pairs à enregistrer ses offres en tant que titres auprès de la Securities and Exchange Commission (SEC) et à proposer des prêts sur un marché secondaire. LendingClub est la plus grande plateforme de prêt entre pairs au monde.\n",
    "\n",
    "### Notre objectif\n",
    "\n",
    "Compte tenu des données historiques sur les prêts accordés avec des informations sur le défaut de paiement (charge-off) ou non de l'emprunteur, pouvons-nous construire un modèle qui puisse prédire si un emprunteur remboursera son prêt ou non ? Ainsi, à l'avenir, lorsque nous aurons un nouveau client potentiel, nous pourrons évaluer s'il est susceptible ou non de rembourser le prêt. Gardez à l'esprit les mesures de classification lorsque vous évaluez la performance de votre modèle !\n",
    "\n",
    "La colonne \"loan_status\" contient notre étiquette ou label.\n",
    "\n",
    "### Aperçu des données"
   ]
  },
  {
   "cell_type": "markdown",
   "metadata": {
    "id": "5irOeT_dw7kC"
   },
   "source": [
    "----\n",
    "-----\n",
    "Il existe de nombreux ensembles de données de LendingClub sur Kaggle. Voici les informations sur cet ensemble de données particulier :\n",
    "\n",
    "<table border=\"1\" class=\"dataframe\">\n",
    "  <thead>\n",
    "    <tr style=\"text-align: right;\">\n",
    "      <th></th>\n",
    "      <th>LoanStatNew</th>\n",
    "      <th>Description</th>\n",
    "    </tr>\n",
    "  </thead>\n",
    "  <tbody>\n",
    "    <tr>\n",
    "      <th>0</th>\n",
    "      <td>loan_amnt</td>\n",
    "      <td>Le montant indiqué du prêt demandé par l'emprunteur. Si, à un moment donné, le service de crédit réduit le montant du prêt, cette valeur en tient compte</td>\n",
    "    </tr>\n",
    "    <tr>\n",
    "      <th>1</th>\n",
    "      <td>term</td>\n",
    "      <td>Le nombre de paiements sur le prêt. Les valeurs sont exprimées en mois et peuvent être de 36 ou 60</td>\n",
    "    </tr>\n",
    "    <tr>\n",
    "      <th>2</th>\n",
    "      <td>int_rate</td>\n",
    "      <td>Taux d'intérêt du prêt</td>\n",
    "    </tr>\n",
    "    <tr>\n",
    "      <th>3</th>\n",
    "      <td>installment</td>\n",
    "      <td>Le paiement mensuel dû par l'emprunteur si le prêt est d'origine</td>\n",
    "    </tr>\n",
    "    <tr>\n",
    "      <th>4</th>\n",
    "      <td>grade</td>\n",
    "      <td>Qualité du prêt attribuée par LC</td>\n",
    "    </tr>\n",
    "    <tr>\n",
    "      <th>5</th>\n",
    "      <td>sub_grade</td>\n",
    "      <td>sous-niveau de qualité attribuée par LC</td>\n",
    "    </tr>\n",
    "    <tr>\n",
    "      <th>6</th>\n",
    "      <td>emp_title</td>\n",
    "      <td>Le titre de poste fourni par l'emprunteur lors de la demande de prêt.</td>\n",
    "    </tr>\n",
    "    <tr>\n",
    "      <th>7</th>\n",
    "      <td>emp_length</td>\n",
    "      <td>Durée de l'emploi en années. Les valeurs possibles sont comprises entre 0 et 10, où 0 signifie moins d'un an et 10 signifie dix ans ou plus</td>\n",
    "    </tr>\n",
    "    <tr>\n",
    "      <th>8</th>\n",
    "      <td>home_ownership</td>\n",
    "      <td>Le statut de propriétaire du logement fourni par l'emprunteur lors de l'enregistrement ou obtenu à partir du rapport de crédit. Nos valeurs sont : RENT (locataire), OWN (propérétaire), MORTGAGE (hypothèque), OTHER (autre)</td>\n",
    "    </tr>\n",
    "    <tr>\n",
    "      <th>9</th>\n",
    "      <td>annual_inc</td>\n",
    "      <td>Le revenu annuel déclaré par l'emprunteur lors de l'enregistrement</td>\n",
    "    </tr>\n",
    "    <tr>\n",
    "      <th>10</th>\n",
    "      <td>verification_status</td>\n",
    "      <td>Indique si le revenu a été vérifié par la LC, non vérifié, ou si la source de revenu a été vérifiée</td>\n",
    "    </tr>\n",
    "    <tr>\n",
    "      <th>11</th>\n",
    "      <td>issue_d</td>\n",
    "      <td>Le mois au cours duquel le prêt a été financé</td>\n",
    "    </tr>\n",
    "    <tr>\n",
    "      <th>12</th>\n",
    "      <td>loan_status</td>\n",
    "      <td>État actuel du prêt</td>\n",
    "    </tr>\n",
    "    <tr>\n",
    "      <th>13</th>\n",
    "      <td>purpose</td>\n",
    "      <td>Une catégorie fournie par l'emprunteur pour la demande de prêt</td>\n",
    "    </tr>\n",
    "    <tr>\n",
    "      <th>14</th>\n",
    "      <td>title</td>\n",
    "      <td>Le titre de prêt fourni par l'emprunteur</td>\n",
    "    </tr>\n",
    "    <tr>\n",
    "      <th>15</th>\n",
    "      <td>zip_code</td>\n",
    "      <td>Les 3 premiers chiffres du code postal fourni par l'emprunteur dans la demande de prêt</td>\n",
    "    </tr>\n",
    "    <tr>\n",
    "      <th>16</th>\n",
    "      <td>addr_state</td>\n",
    "      <td>L'état fourni par l'emprunteur dans la demande de prêt</td>\n",
    "    </tr>\n",
    "    <tr>\n",
    "      <th>17</th>\n",
    "      <td>dti</td>\n",
    "      <td>Un ratio calculé en utilisant le total des paiements mensuels de l'emprunteur sur le total des dettes, à l'exclusion de l'hypothèque et du prêt LC demandé, divisé par le revenu mensuel autodéclaré de l'emprunteur</td>\n",
    "    </tr>\n",
    "    <tr>\n",
    "      <th>18</th>\n",
    "      <td>earliest_cr_line</td>\n",
    "      <td>Le mois d'ouverture de la première ligne de crédit déclarée par l'emprunteur</td>\n",
    "    </tr>\n",
    "    <tr>\n",
    "      <th>19</th>\n",
    "      <td>open_acc</td>\n",
    "      <td>Le nombre de lignes de crédit ouvertes dans le dossier de crédit de l'emprunteur</td>\n",
    "    </tr>\n",
    "    <tr>\n",
    "      <th>20</th>\n",
    "      <td>pub_rec</td>\n",
    "      <td>Nombre d'enregistrements publics dérogatoires</td>\n",
    "    </tr>\n",
    "    <tr>\n",
    "      <th>21</th>\n",
    "      <td>revol_bal</td>\n",
    "      <td>Solde total du crédit renouvelable</td>\n",
    "    </tr>\n",
    "    <tr>\n",
    "      <th>22</th>\n",
    "      <td>revol_util</td>\n",
    "      <td>Le taux d'utilisation de la ligne renouvelable, ou le montant du crédit utilisé par l'emprunteur par rapport à l'ensemble du crédit renouvelable disponible</td>\n",
    "    </tr>\n",
    "    <tr>\n",
    "      <th>23</th>\n",
    "      <td>total_acc</td>\n",
    "      <td>Le nombre total de lignes de crédit figurant actuellement dans le dossier de crédit de l'emprunteur</td>\n",
    "    </tr>\n",
    "    <tr>\n",
    "      <th>24</th>\n",
    "      <td>initial_list_status</td>\n",
    "      <td>L'état initial de l'inscription du prêt. Les valeurs possibles sont - W, F</td>\n",
    "    </tr>\n",
    "    <tr>\n",
    "      <th>25</th>\n",
    "      <td>application_type</td>\n",
    "      <td>Indique si le prêt est une demande individuelle ou une demande conjointe avec deux co-emprunteurs</td>\n",
    "    </tr>\n",
    "    <tr>\n",
    "      <th>26</th>\n",
    "      <td>mort_acc</td>\n",
    "      <td>Nombre de comptes hypothécaires</td>\n",
    "    </tr>\n",
    "    <tr>\n",
    "      <th>27</th>\n",
    "      <td>pub_rec_bankruptcies</td>\n",
    "      <td>Nombre de faillites enregistrées dans les registres publics</td>\n",
    "    </tr>\n",
    "  </tbody>\n",
    "</table>\n",
    "\n",
    "---\n",
    "----"
   ]
  },
  {
   "cell_type": "markdown",
   "metadata": {
    "id": "xcxGBnX9zFUb"
   },
   "source": [
    "### Code pour démarrer\n",
    "\n",
    "#### Note : Nous fournissons également des informations sur les features des données sous forme de fichier .csv pour faciliter la recherche dans le notebook :"
   ]
  },
  {
   "cell_type": "code",
   "execution_count": null,
   "metadata": {
    "id": "iQ10jV-XzKR7"
   },
   "outputs": [],
   "source": [
    "import pandas as pd"
   ]
  },
  {
   "cell_type": "code",
   "execution_count": null,
   "metadata": {
    "id": "aD4oHszbzN2-"
   },
   "outputs": [],
   "source": [
    "url = 'https://raw.githubusercontent.com/moncoachdata/DATA_DEEP_LEARNING/master/lending_club_info.csv'\n",
    "data_info = pd.read_csv(url,index_col='LoanStatNew')\n",
    "\n",
    "# data_info = pd.read_csv('lending_club_info.csv',index_col='LoanStatNew')"
   ]
  },
  {
   "cell_type": "code",
   "execution_count": null,
   "metadata": {
    "colab": {
     "base_uri": "https://localhost:8080/",
     "height": 34
    },
    "executionInfo": {
     "elapsed": 2508,
     "status": "ok",
     "timestamp": 1597076364582,
     "user": {
      "displayName": "Rod Paris",
      "photoUrl": "",
      "userId": "10535238717210992784"
     },
     "user_tz": -120
    },
    "id": "PcNzc79gzTPH",
    "outputId": "e0e710af-59bd-4a29-c476-4d1921f72640"
   },
   "outputs": [
    {
     "name": "stdout",
     "output_type": "stream",
     "text": [
      "Revolving line utilization rate, or the amount of credit the borrower is using relative to all available revolving credit.\n"
     ]
    }
   ],
   "source": [
    "print(data_info.loc['revol_util']['Description'])"
   ]
  },
  {
   "cell_type": "code",
   "execution_count": null,
   "metadata": {
    "id": "65qftSdezVYb"
   },
   "outputs": [],
   "source": [
    "def feat_info(col_name):\n",
    "    print(data_info.loc[col_name]['Description'])"
   ]
  },
  {
   "cell_type": "code",
   "execution_count": null,
   "metadata": {
    "colab": {
     "base_uri": "https://localhost:8080/",
     "height": 34
    },
    "executionInfo": {
     "elapsed": 2490,
     "status": "ok",
     "timestamp": 1597076364584,
     "user": {
      "displayName": "Rod Paris",
      "photoUrl": "",
      "userId": "10535238717210992784"
     },
     "user_tz": -120
    },
    "id": "IlptwsSEzYNH",
    "outputId": "c748641d-c13c-4d44-dcc0-8816c86035b0"
   },
   "outputs": [
    {
     "name": "stdout",
     "output_type": "stream",
     "text": [
      "Number of mortgage accounts.\n"
     ]
    }
   ],
   "source": [
    "feat_info('mort_acc')"
   ]
  },
  {
   "cell_type": "markdown",
   "metadata": {
    "id": "fYRY38XuzcuC"
   },
   "source": [
    "### Chargement des données et autres importations"
   ]
  },
  {
   "cell_type": "code",
   "execution_count": null,
   "metadata": {
    "id": "i_Lzlgc3zZpx"
   },
   "outputs": [],
   "source": [
    "import pandas as pd\n",
    "import numpy as np\n",
    "import matplotlib.pyplot as plt\n",
    "import seaborn as sns"
   ]
  },
  {
   "cell_type": "code",
   "execution_count": null,
   "metadata": {
    "id": "4NwF9kXGzf3z"
   },
   "outputs": [],
   "source": [
    "# lecture du fichier de 100,4 MO depuis 6 fichiers CSV depuis Github pour éviter le temps d'importation \n",
    "# sur Google Colab\n",
    "list_url = ['https://raw.githubusercontent.com/moncoachdata/DATA_DEEP_LEARNING/master/lending_club_loan_two-1.csv',\n",
    "            'https://raw.githubusercontent.com/moncoachdata/DATA_DEEP_LEARNING/master/lending_club_loan_two-2.csv',\n",
    "            'https://raw.githubusercontent.com/moncoachdata/DATA_DEEP_LEARNING/master/lending_club_loan_two-3.csv',\n",
    "            'https://raw.githubusercontent.com/moncoachdata/DATA_DEEP_LEARNING/master/lending_club_loan_two-4.csv',\n",
    "            'https://raw.githubusercontent.com/moncoachdata/DATA_DEEP_LEARNING/master/lending_club_loan_two-5.csv',\n",
    "            'https://raw.githubusercontent.com/moncoachdata/DATA_DEEP_LEARNING/master/lending_club_loan_two-6.csv']\n",
    "\n",
    "df = pd.concat([pd.read_csv(f) for f in list_url],ignore_index=True)\n",
    "\n",
    "# Sinon lecture classique en important sur Google Colab ou depuis le chemin exact\n",
    "# df = pd.read_csv('lending_club_loan_two.csv')"
   ]
  },
  {
   "cell_type": "code",
   "execution_count": null,
   "metadata": {
    "colab": {
     "base_uri": "https://localhost:8080/",
     "height": 595
    },
    "executionInfo": {
     "elapsed": 11009,
     "status": "ok",
     "timestamp": 1597076373133,
     "user": {
      "displayName": "Rod Paris",
      "photoUrl": "",
      "userId": "10535238717210992784"
     },
     "user_tz": -120
    },
    "id": "CZfaORcvzkmn",
    "outputId": "2a2dcd07-7ee7-494e-ad43-a633acddaf4e"
   },
   "outputs": [
    {
     "name": "stdout",
     "output_type": "stream",
     "text": [
      "<class 'pandas.core.frame.DataFrame'>\n",
      "RangeIndex: 396030 entries, 0 to 396029\n",
      "Data columns (total 27 columns):\n",
      " #   Column                Non-Null Count   Dtype  \n",
      "---  ------                --------------   -----  \n",
      " 0   loan_amnt             396030 non-null  float64\n",
      " 1   term                  396030 non-null  object \n",
      " 2   int_rate              396030 non-null  float64\n",
      " 3   installment           396030 non-null  float64\n",
      " 4   grade                 396030 non-null  object \n",
      " 5   sub_grade             396030 non-null  object \n",
      " 6   emp_title             373103 non-null  object \n",
      " 7   emp_length            377729 non-null  object \n",
      " 8   home_ownership        396030 non-null  object \n",
      " 9   annual_inc            396030 non-null  float64\n",
      " 10  verification_status   396030 non-null  object \n",
      " 11  issue_d               396030 non-null  object \n",
      " 12  loan_status           396030 non-null  object \n",
      " 13  purpose               396030 non-null  object \n",
      " 14  title                 394275 non-null  object \n",
      " 15  dti                   396030 non-null  float64\n",
      " 16  earliest_cr_line      396030 non-null  object \n",
      " 17  open_acc              396030 non-null  float64\n",
      " 18  pub_rec               396030 non-null  float64\n",
      " 19  revol_bal             396030 non-null  float64\n",
      " 20  revol_util            395754 non-null  float64\n",
      " 21  total_acc             396030 non-null  float64\n",
      " 22  initial_list_status   396030 non-null  object \n",
      " 23  application_type      396030 non-null  object \n",
      " 24  mort_acc              358235 non-null  float64\n",
      " 25  pub_rec_bankruptcies  395495 non-null  float64\n",
      " 26  address               396030 non-null  object \n",
      "dtypes: float64(12), object(15)\n",
      "memory usage: 81.6+ MB\n"
     ]
    }
   ],
   "source": [
    "df.info()"
   ]
  },
  {
   "cell_type": "markdown",
   "metadata": {
    "id": "_s7Q87Xfzt_q"
   },
   "source": [
    "# Tâches du projet\n",
    "\n",
    "**Complétez les tâches ci-dessous ! Gardez à l'esprit qu'il y a généralement plusieurs façons d'accomplir la tâche ! Profitez-en**"
   ]
  },
  {
   "cell_type": "markdown",
   "metadata": {
    "id": "ow1z0X8Ez1Xz"
   },
   "source": [
    "-----\n",
    "------\n",
    "\n",
    "# Section 1 : Analyse Exploratoire des Données (EDA)\n",
    "\n",
    "**OJECTIF GÉNÉRAL : Comprendre quelles variables sont importantes, consulter les statistiques sommaires et visualiser les données**\n",
    "\n",
    "\n",
    "----"
   ]
  },
  {
   "cell_type": "markdown",
   "metadata": {
    "id": "-8G4F4fCz-pD"
   },
   "source": [
    "**Tâche : Puisque nous allons tenter de prédire l'état des prêts, créez un graphique de comptage (countplot) comme celui ci-dessous.**"
   ]
  },
  {
   "cell_type": "code",
   "execution_count": null,
   "metadata": {
    "colab": {
     "base_uri": "https://localhost:8080/",
     "height": 280
    },
    "executionInfo": {
     "elapsed": 9959,
     "status": "ok",
     "timestamp": 1597076373774,
     "user": {
      "displayName": "Rod Paris",
      "photoUrl": "",
      "userId": "10535238717210992784"
     },
     "user_tz": -120
    },
    "id": "SeQuh3Dpznoh",
    "outputId": "02f6f61e-0ecb-49d2-fab7-d976fc04287f"
   },
   "outputs": [
    {
     "data": {
      "image/png": "[encoded data removed]",
      "text/plain": [
       "<Figure size 432x288 with 1 Axes>"
      ]
     },
     "metadata": {
      "needs_background": "light",
      "tags": []
     },
     "output_type": "display_data"
    }
   ],
   "source": [
    "sns.countplot(x='loan_status',data=df);"
   ]
  },
  {
   "cell_type": "markdown",
   "metadata": {
    "id": "FMTnaTza0Q_z"
   },
   "source": [
    "**Tâche : Créer un histogramme de la colonne loan_amnt.**"
   ]
  },
  {
   "cell_type": "code",
   "execution_count": null,
   "metadata": {
    "colab": {
     "base_uri": "https://localhost:8080/",
     "height": 280
    },
    "executionInfo": {
     "elapsed": 7948,
     "status": "ok",
     "timestamp": 1597076373775,
     "user": {
      "displayName": "Rod Paris",
      "photoUrl": "",
      "userId": "10535238717210992784"
     },
     "user_tz": -120
    },
    "id": "928wtGq30UQH",
    "outputId": "7912d690-71be-467a-ed6d-c7d179887acf"
   },
   "outputs": [
    {
     "data": {
      "image/png": "[encoded data removed]",
      "text/plain": [
       "<Figure size 864x288 with 1 Axes>"
      ]
     },
     "metadata": {
      "needs_background": "light",
      "tags": []
     },
     "output_type": "display_data"
    }
   ],
   "source": [
    "plt.figure(figsize=(12,4))\n",
    "sns.distplot(df['loan_amnt'],kde=False,bins=40)\n",
    "plt.xlim(0,45000);"
   ]
  },
  {
   "cell_type": "markdown",
   "metadata": {
    "id": "8Y9jUMLm0Ywl"
   },
   "source": [
    "**Tâche : Examinons la corrélation entre les variables de features continues. Calculer la corrélation entre toutes les variables numériques continues en utilisant la méthode .corr().**"
   ]
  },
  {
   "cell_type": "code",
   "execution_count": null,
   "metadata": {
    "colab": {
     "base_uri": "https://localhost:8080/",
     "height": 441
    },
    "executionInfo": {
     "elapsed": 5042,
     "status": "ok",
     "timestamp": 1597076374875,
     "user": {
      "displayName": "Rod Paris",
      "photoUrl": "",
      "userId": "10535238717210992784"
     },
     "user_tz": -120
    },
    "id": "_IvIuF1R0e6U",
    "outputId": "81981292-2f6a-4a8f-f638-c8349496db55"
   },
   "outputs": [
    {
     "data": {
      "text/html": [
       "<div>\n",
       "<style scoped>\n",
       "    .dataframe tbody tr th:only-of-type {\n",
       "        vertical-align: middle;\n",
       "    }\n",
       "\n",
       "    .dataframe tbody tr th {\n",
       "        vertical-align: top;\n",
       "    }\n",
       "\n",
       "    .dataframe thead th {\n",
       "        text-align: right;\n",
       "    }\n",
       "</style>\n",
       "<table border=\"1\" class=\"dataframe\">\n",
       "  <thead>\n",
       "    <tr style=\"text-align: right;\">\n",
       "      <th></th>\n",
       "      <th>loan_amnt</th>\n",
       "      <th>int_rate</th>\n",
       "      <th>installment</th>\n",
       "      <th>annual_inc</th>\n",
       "      <th>dti</th>\n",
       "      <th>open_acc</th>\n",
       "      <th>pub_rec</th>\n",
       "      <th>revol_bal</th>\n",
       "      <th>revol_util</th>\n",
       "      <th>total_acc</th>\n",
       "      <th>mort_acc</th>\n",
       "      <th>pub_rec_bankruptcies</th>\n",
       "    </tr>\n",
       "  </thead>\n",
       "  <tbody>\n",
       "    <tr>\n",
       "      <th>loan_amnt</th>\n",
       "      <td>1.000000</td>\n",
       "      <td>0.168921</td>\n",
       "      <td>0.953929</td>\n",
       "      <td>0.336887</td>\n",
       "      <td>0.016636</td>\n",
       "      <td>0.198556</td>\n",
       "      <td>-0.077779</td>\n",
       "      <td>0.328320</td>\n",
       "      <td>0.099911</td>\n",
       "      <td>0.223886</td>\n",
       "      <td>0.222315</td>\n",
       "      <td>-0.106539</td>\n",
       "    </tr>\n",
       "    <tr>\n",
       "      <th>int_rate</th>\n",
       "      <td>0.168921</td>\n",
       "      <td>1.000000</td>\n",
       "      <td>0.162758</td>\n",
       "      <td>-0.056771</td>\n",
       "      <td>0.079038</td>\n",
       "      <td>0.011649</td>\n",
       "      <td>0.060986</td>\n",
       "      <td>-0.011280</td>\n",
       "      <td>0.293659</td>\n",
       "      <td>-0.036404</td>\n",
       "      <td>-0.082583</td>\n",
       "      <td>0.057450</td>\n",
       "    </tr>\n",
       "    <tr>\n",
       "      <th>installment</th>\n",
       "      <td>0.953929</td>\n",
       "      <td>0.162758</td>\n",
       "      <td>1.000000</td>\n",
       "      <td>0.330381</td>\n",
       "      <td>0.015786</td>\n",
       "      <td>0.188973</td>\n",
       "      <td>-0.067892</td>\n",
       "      <td>0.316455</td>\n",
       "      <td>0.123915</td>\n",
       "      <td>0.202430</td>\n",
       "      <td>0.193694</td>\n",
       "      <td>-0.098628</td>\n",
       "    </tr>\n",
       "    <tr>\n",
       "      <th>annual_inc</th>\n",
       "      <td>0.336887</td>\n",
       "      <td>-0.056771</td>\n",
       "      <td>0.330381</td>\n",
       "      <td>1.000000</td>\n",
       "      <td>-0.081685</td>\n",
       "      <td>0.136150</td>\n",
       "      <td>-0.013720</td>\n",
       "      <td>0.299773</td>\n",
       "      <td>0.027871</td>\n",
       "      <td>0.193023</td>\n",
       "      <td>0.236320</td>\n",
       "      <td>-0.050162</td>\n",
       "    </tr>\n",
       "    <tr>\n",
       "      <th>dti</th>\n",
       "      <td>0.016636</td>\n",
       "      <td>0.079038</td>\n",
       "      <td>0.015786</td>\n",
       "      <td>-0.081685</td>\n",
       "      <td>1.000000</td>\n",
       "      <td>0.136181</td>\n",
       "      <td>-0.017639</td>\n",
       "      <td>0.063571</td>\n",
       "      <td>0.088375</td>\n",
       "      <td>0.102128</td>\n",
       "      <td>-0.025439</td>\n",
       "      <td>-0.014558</td>\n",
       "    </tr>\n",
       "    <tr>\n",
       "      <th>open_acc</th>\n",
       "      <td>0.198556</td>\n",
       "      <td>0.011649</td>\n",
       "      <td>0.188973</td>\n",
       "      <td>0.136150</td>\n",
       "      <td>0.136181</td>\n",
       "      <td>1.000000</td>\n",
       "      <td>-0.018392</td>\n",
       "      <td>0.221192</td>\n",
       "      <td>-0.131420</td>\n",
       "      <td>0.680728</td>\n",
       "      <td>0.109205</td>\n",
       "      <td>-0.027732</td>\n",
       "    </tr>\n",
       "    <tr>\n",
       "      <th>pub_rec</th>\n",
       "      <td>-0.077779</td>\n",
       "      <td>0.060986</td>\n",
       "      <td>-0.067892</td>\n",
       "      <td>-0.013720</td>\n",
       "      <td>-0.017639</td>\n",
       "      <td>-0.018392</td>\n",
       "      <td>1.000000</td>\n",
       "      <td>-0.101664</td>\n",
       "      <td>-0.075910</td>\n",
       "      <td>0.019723</td>\n",
       "      <td>0.011552</td>\n",
       "      <td>0.699408</td>\n",
       "    </tr>\n",
       "    <tr>\n",
       "      <th>revol_bal</th>\n",
       "      <td>0.328320</td>\n",
       "      <td>-0.011280</td>\n",
       "      <td>0.316455</td>\n",
       "      <td>0.299773</td>\n",
       "      <td>0.063571</td>\n",
       "      <td>0.221192</td>\n",
       "      <td>-0.101664</td>\n",
       "      <td>1.000000</td>\n",
       "      <td>0.226346</td>\n",
       "      <td>0.191616</td>\n",
       "      <td>0.194925</td>\n",
       "      <td>-0.124532</td>\n",
       "    </tr>\n",
       "    <tr>\n",
       "      <th>revol_util</th>\n",
       "      <td>0.099911</td>\n",
       "      <td>0.293659</td>\n",
       "      <td>0.123915</td>\n",
       "      <td>0.027871</td>\n",
       "      <td>0.088375</td>\n",
       "      <td>-0.131420</td>\n",
       "      <td>-0.075910</td>\n",
       "      <td>0.226346</td>\n",
       "      <td>1.000000</td>\n",
       "      <td>-0.104273</td>\n",
       "      <td>0.007514</td>\n",
       "      <td>-0.086751</td>\n",
       "    </tr>\n",
       "    <tr>\n",
       "      <th>total_acc</th>\n",
       "      <td>0.223886</td>\n",
       "      <td>-0.036404</td>\n",
       "      <td>0.202430</td>\n",
       "      <td>0.193023</td>\n",
       "      <td>0.102128</td>\n",
       "      <td>0.680728</td>\n",
       "      <td>0.019723</td>\n",
       "      <td>0.191616</td>\n",
       "      <td>-0.104273</td>\n",
       "      <td>1.000000</td>\n",
       "      <td>0.381072</td>\n",
       "      <td>0.042035</td>\n",
       "    </tr>\n",
       "    <tr>\n",
       "      <th>mort_acc</th>\n",
       "      <td>0.222315</td>\n",
       "      <td>-0.082583</td>\n",
       "      <td>0.193694</td>\n",
       "      <td>0.236320</td>\n",
       "      <td>-0.025439</td>\n",
       "      <td>0.109205</td>\n",
       "      <td>0.011552</td>\n",
       "      <td>0.194925</td>\n",
       "      <td>0.007514</td>\n",
       "      <td>0.381072</td>\n",
       "      <td>1.000000</td>\n",
       "      <td>0.027239</td>\n",
       "    </tr>\n",
       "    <tr>\n",
       "      <th>pub_rec_bankruptcies</th>\n",
       "      <td>-0.106539</td>\n",
       "      <td>0.057450</td>\n",
       "      <td>-0.098628</td>\n",
       "      <td>-0.050162</td>\n",
       "      <td>-0.014558</td>\n",
       "      <td>-0.027732</td>\n",
       "      <td>0.699408</td>\n",
       "      <td>-0.124532</td>\n",
       "      <td>-0.086751</td>\n",
       "      <td>0.042035</td>\n",
       "      <td>0.027239</td>\n",
       "      <td>1.000000</td>\n",
       "    </tr>\n",
       "  </tbody>\n",
       "</table>\n",
       "</div>"
      ],
      "text/plain": [
       "                      loan_amnt  int_rate  ...  mort_acc  pub_rec_bankruptcies\n",
       "loan_amnt              1.000000  0.168921  ...  0.222315             -0.106539\n",
       "int_rate               0.168921  1.000000  ... -0.082583              0.057450\n",
       "installment            0.953929  0.162758  ...  0.193694             -0.098628\n",
       "annual_inc             0.336887 -0.056771  ...  0.236320             -0.050162\n",
       "dti                    0.016636  0.079038  ... -0.025439             -0.014558\n",
       "open_acc               0.198556  0.011649  ...  0.109205             -0.027732\n",
       "pub_rec               -0.077779  0.060986  ...  0.011552              0.699408\n",
       "revol_bal              0.328320 -0.011280  ...  0.194925             -0.124532\n",
       "revol_util             0.099911  0.293659  ...  0.007514             -0.086751\n",
       "total_acc              0.223886 -0.036404  ...  0.381072              0.042035\n",
       "mort_acc               0.222315 -0.082583  ...  1.000000              0.027239\n",
       "pub_rec_bankruptcies  -0.106539  0.057450  ...  0.027239              1.000000\n",
       "\n",
       "[12 rows x 12 columns]"
      ]
     },
     "execution_count": 11,
     "metadata": {
      "tags": []
     },
     "output_type": "execute_result"
    }
   ],
   "source": [
    "df.corr()"
   ]
  },
  {
   "cell_type": "markdown",
   "metadata": {
    "id": "2IFoinpG0kHo"
   },
   "source": [
    "**Tâche : Visualisez ceci à l'aide d'une carte de chaleur (heatmap). En fonction de votre version de matplotlib, vous devrez peut-être ajuster manuellement la heatmap**.\n",
    "\n",
    "* [Info Heatmap](https://seaborn.pydata.org/generated/seaborn.heatmap.html#seaborn.heatmap)\n",
    "* [Aide au redimensionnement](https://stackoverflow.com/questions/56942670/matplotlib-seaborn-first-and-last-row-cut-in-half-of-heatmap-plot)"
   ]
  },
  {
   "cell_type": "code",
   "execution_count": null,
   "metadata": {
    "colab": {
     "base_uri": "https://localhost:8080/",
     "height": 532
    },
    "executionInfo": {
     "elapsed": 1760,
     "status": "ok",
     "timestamp": 1642439967604,
     "user": {
      "displayName": "Rod Paris",
      "photoUrl": "https://lh3.googleusercontent.com/a-/AOh14GiGOEWvx7aTTHb8HlMTKIHQKYJZQ6mJRliDRMVC5Q=s64",
      "userId": "10535238717210992784"
     },
     "user_tz": -60
    },
    "id": "FAQzoI240ylq",
    "outputId": "f3bffb58-412b-4173-ad5f-3db783364608"
   },
   "outputs": [
    {
     "data": {
      "image/png": "[encoded data removed]",
      "text/plain": [
       "<Figure size 864x504 with 2 Axes>"
      ]
     },
     "metadata": {
      "needs_background": "light"
     },
     "output_type": "display_data"
    }
   ],
   "source": [
    "plt.figure(figsize=(12,7))\n",
    "sns.heatmap(df.corr(),annot=True,cmap='viridis')\n",
    "plt.ylim(12,0);"
   ]
  },
  {
   "cell_type": "markdown",
   "metadata": {
    "id": "Fui65V_v06MN"
   },
   "source": [
    "**Tâche : Vous devriez avoir remarqué une corrélation presque parfaite avec la feature \"installment\". Explorez cette feature plus en détail. Imprimez leurs descriptions et effectuez un graphique de nuage de points entre elles. Cette relation a-t-elle un sens pour vous ? Pensez-vous qu'il y a des informations en double ici ?**"
   ]
  },
  {
   "cell_type": "code",
   "execution_count": null,
   "metadata": {
    "colab": {
     "base_uri": "https://localhost:8080/",
     "height": 34
    },
    "executionInfo": {
     "elapsed": 14238,
     "status": "ok",
     "timestamp": 1594914038642,
     "user": {
      "displayName": "Rod Paris",
      "photoUrl": "",
      "userId": "10535238717210992784"
     },
     "user_tz": -120
    },
    "id": "OlK5iZvK1IYI",
    "outputId": "d7188e10-901e-40b4-c447-7454742614c6"
   },
   "outputs": [
    {
     "name": "stdout",
     "output_type": "stream",
     "text": [
      "The monthly payment owed by the borrower if the loan originates.\n"
     ]
    }
   ],
   "source": [
    "feat_info('installment')"
   ]
  },
  {
   "cell_type": "code",
   "execution_count": null,
   "metadata": {
    "colab": {
     "base_uri": "https://localhost:8080/",
     "height": 54
    },
    "executionInfo": {
     "elapsed": 14131,
     "status": "ok",
     "timestamp": 1594914038642,
     "user": {
      "displayName": "Rod Paris",
      "photoUrl": "",
      "userId": "10535238717210992784"
     },
     "user_tz": -120
    },
    "id": "7nKFADey1IwO",
    "outputId": "b445f8e7-316a-46aa-f0e1-9bbd2417d871"
   },
   "outputs": [
    {
     "name": "stdout",
     "output_type": "stream",
     "text": [
      "The listed amount of the loan applied for by the borrower. If at some point in time, the credit department reduces the loan amount, then it will be reflected in this value.\n"
     ]
    }
   ],
   "source": [
    "feat_info('loan_amnt')"
   ]
  },
  {
   "cell_type": "code",
   "execution_count": null,
   "metadata": {
    "colab": {
     "base_uri": "https://localhost:8080/",
     "height": 279
    },
    "executionInfo": {
     "elapsed": 16564,
     "status": "ok",
     "timestamp": 1594914041100,
     "user": {
      "displayName": "Rod Paris",
      "photoUrl": "",
      "userId": "10535238717210992784"
     },
     "user_tz": -120
    },
    "id": "WzjTLe-U1KMq",
    "outputId": "18a6782a-10b0-4926-9345-d6b47900cac8"
   },
   "outputs": [
    {
     "data": {
      "image/png": "[encoded data removed]",
      "text/plain": [
       "<Figure size 432x288 with 1 Axes>"
      ]
     },
     "metadata": {
      "needs_background": "light",
      "tags": []
     },
     "output_type": "display_data"
    }
   ],
   "source": [
    "sns.scatterplot(x='installment',y='loan_amnt',data=df,);"
   ]
  },
  {
   "cell_type": "markdown",
   "metadata": {
    "id": "EkL_jEXS1Pcr"
   },
   "source": [
    "**Tâche : Créer un diagramme en boîtes (boxplot) montrant la relation entre le statut du prêt (loan_status) et le montant du prêt.**"
   ]
  },
  {
   "cell_type": "code",
   "execution_count": null,
   "metadata": {
    "colab": {
     "base_uri": "https://localhost:8080/",
     "height": 280
    },
    "executionInfo": {
     "elapsed": 16504,
     "status": "ok",
     "timestamp": 1594914041101,
     "user": {
      "displayName": "Rod Paris",
      "photoUrl": "",
      "userId": "10535238717210992784"
     },
     "user_tz": -120
    },
    "id": "rPM1xKEo1ho_",
    "outputId": "f70977fa-12f7-4d07-ba56-9fcfc65f822b"
   },
   "outputs": [
    {
     "data": {
      "image/png": "[encoded data removed]",
      "text/plain": [
       "<Figure size 432x288 with 1 Axes>"
      ]
     },
     "metadata": {
      "needs_background": "light",
      "tags": []
     },
     "output_type": "display_data"
    }
   ],
   "source": [
    "sns.boxplot(x='loan_status',y='loan_amnt',data=df);"
   ]
  },
  {
   "cell_type": "markdown",
   "metadata": {
    "id": "y5vUj9p71l6g"
   },
   "source": [
    "**Tâche : Calculer les statistiques sommaires pour le montant du prêt, regroupées par la feature loan_status.**"
   ]
  },
  {
   "cell_type": "code",
   "execution_count": null,
   "metadata": {
    "colab": {
     "base_uri": "https://localhost:8080/",
     "height": 142
    },
    "executionInfo": {
     "elapsed": 16445,
     "status": "ok",
     "timestamp": 1594914041103,
     "user": {
      "displayName": "Rod Paris",
      "photoUrl": "",
      "userId": "10535238717210992784"
     },
     "user_tz": -120
    },
    "id": "iOorRELJ1sgD",
    "outputId": "6866d218-b1ea-49f0-df4a-e085281a57d3"
   },
   "outputs": [
    {
     "data": {
      "text/html": [
       "<div>\n",
       "<style scoped>\n",
       "    .dataframe tbody tr th:only-of-type {\n",
       "        vertical-align: middle;\n",
       "    }\n",
       "\n",
       "    .dataframe tbody tr th {\n",
       "        vertical-align: top;\n",
       "    }\n",
       "\n",
       "    .dataframe thead th {\n",
       "        text-align: right;\n",
       "    }\n",
       "</style>\n",
       "<table border=\"1\" class=\"dataframe\">\n",
       "  <thead>\n",
       "    <tr style=\"text-align: right;\">\n",
       "      <th></th>\n",
       "      <th>count</th>\n",
       "      <th>mean</th>\n",
       "      <th>std</th>\n",
       "      <th>min</th>\n",
       "      <th>25%</th>\n",
       "      <th>50%</th>\n",
       "      <th>75%</th>\n",
       "      <th>max</th>\n",
       "    </tr>\n",
       "    <tr>\n",
       "      <th>loan_status</th>\n",
       "      <th></th>\n",
       "      <th></th>\n",
       "      <th></th>\n",
       "      <th></th>\n",
       "      <th></th>\n",
       "      <th></th>\n",
       "      <th></th>\n",
       "      <th></th>\n",
       "    </tr>\n",
       "  </thead>\n",
       "  <tbody>\n",
       "    <tr>\n",
       "      <th>Charged Off</th>\n",
       "      <td>77673.0</td>\n",
       "      <td>15126.300967</td>\n",
       "      <td>8505.090557</td>\n",
       "      <td>1000.0</td>\n",
       "      <td>8525.0</td>\n",
       "      <td>14000.0</td>\n",
       "      <td>20000.0</td>\n",
       "      <td>40000.0</td>\n",
       "    </tr>\n",
       "    <tr>\n",
       "      <th>Fully Paid</th>\n",
       "      <td>318357.0</td>\n",
       "      <td>13866.878771</td>\n",
       "      <td>8302.319699</td>\n",
       "      <td>500.0</td>\n",
       "      <td>7500.0</td>\n",
       "      <td>12000.0</td>\n",
       "      <td>19225.0</td>\n",
       "      <td>40000.0</td>\n",
       "    </tr>\n",
       "  </tbody>\n",
       "</table>\n",
       "</div>"
      ],
      "text/plain": [
       "                count          mean          std  ...      50%      75%      max\n",
       "loan_status                                       ...                           \n",
       "Charged Off   77673.0  15126.300967  8505.090557  ...  14000.0  20000.0  40000.0\n",
       "Fully Paid   318357.0  13866.878771  8302.319699  ...  12000.0  19225.0  40000.0\n",
       "\n",
       "[2 rows x 8 columns]"
      ]
     },
     "execution_count": 24,
     "metadata": {
      "tags": []
     },
     "output_type": "execute_result"
    }
   ],
   "source": [
    "df.groupby('loan_status')['loan_amnt'].describe()"
   ]
  },
  {
   "cell_type": "markdown",
   "metadata": {
    "id": "UPqEc6kt1xY4"
   },
   "source": [
    "**Tâche : Examinons les colonnes Grade et SubGrade que LendingClub attribue aux prêts. Quels sont les notations et sous-notations uniques possibles ?**"
   ]
  },
  {
   "cell_type": "code",
   "execution_count": null,
   "metadata": {
    "colab": {
     "base_uri": "https://localhost:8080/",
     "height": 34
    },
    "executionInfo": {
     "elapsed": 16406,
     "status": "ok",
     "timestamp": 1594914041105,
     "user": {
      "displayName": "Rod Paris",
      "photoUrl": "",
      "userId": "10535238717210992784"
     },
     "user_tz": -120
    },
    "id": "tZpt3B7R2Nri",
    "outputId": "56516579-f27c-4fb1-dc0e-f749e1ee3bd9"
   },
   "outputs": [
    {
     "data": {
      "text/plain": [
       "['A', 'B', 'C', 'D', 'E', 'F', 'G']"
      ]
     },
     "execution_count": 26,
     "metadata": {
      "tags": []
     },
     "output_type": "execute_result"
    }
   ],
   "source": [
    "sorted(df['grade'].unique())"
   ]
  },
  {
   "cell_type": "code",
   "execution_count": null,
   "metadata": {
    "colab": {
     "base_uri": "https://localhost:8080/",
     "height": 612
    },
    "executionInfo": {
     "elapsed": 16356,
     "status": "ok",
     "timestamp": 1594914041105,
     "user": {
      "displayName": "Rod Paris",
      "photoUrl": "",
      "userId": "10535238717210992784"
     },
     "user_tz": -120
    },
    "id": "bkph1Tpt2OCh",
    "outputId": "a793d3b0-4038-4bdb-d01d-d4f8c0ff8ab2"
   },
   "outputs": [
    {
     "data": {
      "text/plain": [
       "['A1',\n",
       " 'A2',\n",
       " 'A3',\n",
       " 'A4',\n",
       " 'A5',\n",
       " 'B1',\n",
       " 'B2',\n",
       " 'B3',\n",
       " 'B4',\n",
       " 'B5',\n",
       " 'C1',\n",
       " 'C2',\n",
       " 'C3',\n",
       " 'C4',\n",
       " 'C5',\n",
       " 'D1',\n",
       " 'D2',\n",
       " 'D3',\n",
       " 'D4',\n",
       " 'D5',\n",
       " 'E1',\n",
       " 'E2',\n",
       " 'E3',\n",
       " 'E4',\n",
       " 'E5',\n",
       " 'F1',\n",
       " 'F2',\n",
       " 'F3',\n",
       " 'F4',\n",
       " 'F5',\n",
       " 'G1',\n",
       " 'G2',\n",
       " 'G3',\n",
       " 'G4',\n",
       " 'G5']"
      ]
     },
     "execution_count": 27,
     "metadata": {
      "tags": []
     },
     "output_type": "execute_result"
    }
   ],
   "source": [
    "sorted(df['sub_grade'].unique())"
   ]
  },
  {
   "cell_type": "markdown",
   "metadata": {
    "id": "jnfec1842S4S"
   },
   "source": [
    "**Tâche : Créer un graphique de comptage par notation (grade). Définissez le label loan_status pour la paramètre hue.**"
   ]
  },
  {
   "cell_type": "code",
   "execution_count": null,
   "metadata": {
    "colab": {
     "base_uri": "https://localhost:8080/",
     "height": 279
    },
    "executionInfo": {
     "elapsed": 16643,
     "status": "ok",
     "timestamp": 1594914041447,
     "user": {
      "displayName": "Rod Paris",
      "photoUrl": "",
      "userId": "10535238717210992784"
     },
     "user_tz": -120
    },
    "id": "5F5ZS39z2P5A",
    "outputId": "8a9ffbe2-3342-480b-befb-b3b6eaeee753"
   },
   "outputs": [
    {
     "data": {
      "image/png": "[encoded data removed]",
      "text/plain": [
       "<Figure size 432x288 with 1 Axes>"
      ]
     },
     "metadata": {
      "needs_background": "light",
      "tags": []
     },
     "output_type": "display_data"
    }
   ],
   "source": [
    "sns.countplot(x='grade',data=df,hue='loan_status');"
   ]
  },
  {
   "cell_type": "markdown",
   "metadata": {
    "id": "jo7kVGgI4WQt"
   },
   "source": [
    "**Tâche : Afficher un graphique de comptage par sous-notation de qualité du prêt (subgrade). Vous devrez peut-être redimensionner ce graphique et réorganiser l'axe des x. N'hésitez pas à modifier la palette de couleurs. Explorez à la fois tous les prêts effectués par niveau inférieur et ceux qui sont séparés en fonction de l'état du prêt (loan_status)**."
   ]
  },
  {
   "cell_type": "code",
   "execution_count": null,
   "metadata": {
    "colab": {
     "base_uri": "https://localhost:8080/",
     "height": 280
    },
    "executionInfo": {
     "elapsed": 17069,
     "status": "ok",
     "timestamp": 1594914041938,
     "user": {
      "displayName": "Rod Paris",
      "photoUrl": "",
      "userId": "10535238717210992784"
     },
     "user_tz": -120
    },
    "id": "c_PxsbIV4rS_",
    "outputId": "a722128d-adba-4fe7-a235-db52d2a8e77f"
   },
   "outputs": [
    {
     "data": {
      "image/png": "[encoded data removed]",
      "text/plain": [
       "<Figure size 864x288 with 1 Axes>"
      ]
     },
     "metadata": {
      "needs_background": "light",
      "tags": []
     },
     "output_type": "display_data"
    }
   ],
   "source": [
    "plt.figure(figsize=(12,4))\n",
    "subgrade_order = sorted(df['sub_grade'].unique())\n",
    "sns.countplot(x='sub_grade',data=df,order = subgrade_order,palette='coolwarm' );"
   ]
  },
  {
   "cell_type": "code",
   "execution_count": null,
   "metadata": {
    "colab": {
     "base_uri": "https://localhost:8080/",
     "height": 280
    },
    "executionInfo": {
     "elapsed": 18031,
     "status": "ok",
     "timestamp": 1594914042941,
     "user": {
      "displayName": "Rod Paris",
      "photoUrl": "",
      "userId": "10535238717210992784"
     },
     "user_tz": -120
    },
    "id": "A6xpH1q75awt",
    "outputId": "a9339256-ba1c-490a-a177-5d97e9e2b028"
   },
   "outputs": [
    {
     "data": {
      "image/png": "[encoded data removed]",
      "text/plain": [
       "<Figure size 864x288 with 1 Axes>"
      ]
     },
     "metadata": {
      "needs_background": "light",
      "tags": []
     },
     "output_type": "display_data"
    }
   ],
   "source": [
    "plt.figure(figsize=(12,4))\n",
    "subgrade_order = sorted(df['sub_grade'].unique())\n",
    "sns.countplot(x='sub_grade',data=df,order = subgrade_order,palette='coolwarm' ,hue='loan_status');"
   ]
  },
  {
   "cell_type": "markdown",
   "metadata": {
    "id": "4NoT3kVW6LdB"
   },
   "source": [
    "**Tâche : Il semble que les notes F et G ne soient pas remboursées très souvent. Isolez-les et recréez le graphique de comptage juste pour leurs sous-niveaux de notation (subgrade).**"
   ]
  },
  {
   "cell_type": "code",
   "execution_count": null,
   "metadata": {
    "colab": {
     "base_uri": "https://localhost:8080/",
     "height": 280
    },
    "executionInfo": {
     "elapsed": 17983,
     "status": "ok",
     "timestamp": 1594914042945,
     "user": {
      "displayName": "Rod Paris",
      "photoUrl": "",
      "userId": "10535238717210992784"
     },
     "user_tz": -120
    },
    "id": "zErh5Sji6cGa",
    "outputId": "60d6aaa1-a846-40a7-9c4f-ef3786e88911"
   },
   "outputs": [
    {
     "data": {
      "image/png": "[encoded data removed]",
      "text/plain": [
       "<Figure size 864x288 with 1 Axes>"
      ]
     },
     "metadata": {
      "needs_background": "light",
      "tags": []
     },
     "output_type": "display_data"
    }
   ],
   "source": [
    "f_and_g = df[(df['grade']=='G') | (df['grade']=='F')]\n",
    "\n",
    "plt.figure(figsize=(12,4))\n",
    "subgrade_order = sorted(f_and_g['sub_grade'].unique())\n",
    "sns.countplot(x='sub_grade',data=f_and_g,order = subgrade_order,hue='loan_status');"
   ]
  },
  {
   "cell_type": "markdown",
   "metadata": {
    "id": "biO2KOBV6gg6"
   },
   "source": [
    "**Tâche : Créer une nouvelle colonne appelée \"loan_repaid\" qui contiendra 1 si le statut du prêt était \"Fully Paid\" et un 0 s'il était \"Charged Off\".**"
   ]
  },
  {
   "cell_type": "code",
   "execution_count": null,
   "metadata": {
    "colab": {
     "base_uri": "https://localhost:8080/",
     "height": 34
    },
    "executionInfo": {
     "elapsed": 18294,
     "status": "ok",
     "timestamp": 1594914043297,
     "user": {
      "displayName": "Rod Paris",
      "photoUrl": "",
      "userId": "10535238717210992784"
     },
     "user_tz": -120
    },
    "id": "ffk9Tq9O6oiW",
    "outputId": "43a3bdf9-fb71-4846-ed3c-4906b2fa4ab8"
   },
   "outputs": [
    {
     "data": {
      "text/plain": [
       "array(['Fully Paid', 'Charged Off'], dtype=object)"
      ]
     },
     "execution_count": 37,
     "metadata": {
      "tags": []
     },
     "output_type": "execute_result"
    }
   ],
   "source": [
    "df['loan_status'].unique()"
   ]
  },
  {
   "cell_type": "code",
   "execution_count": null,
   "metadata": {
    "id": "1jx7hPDS6pRo"
   },
   "outputs": [],
   "source": [
    "df['loan_repaid'] = df['loan_status'].map({'Fully Paid':1,'Charged Off':0})"
   ]
  },
  {
   "cell_type": "code",
   "execution_count": null,
   "metadata": {
    "colab": {
     "base_uri": "https://localhost:8080/",
     "height": 419
    },
    "executionInfo": {
     "elapsed": 18252,
     "status": "ok",
     "timestamp": 1594914043298,
     "user": {
      "displayName": "Rod Paris",
      "photoUrl": "",
      "userId": "10535238717210992784"
     },
     "user_tz": -120
    },
    "id": "0UKOyCf26q7H",
    "outputId": "9de021e2-4d9f-4099-e78a-65755c523993"
   },
   "outputs": [
    {
     "data": {
      "text/html": [
       "<div>\n",
       "<style scoped>\n",
       "    .dataframe tbody tr th:only-of-type {\n",
       "        vertical-align: middle;\n",
       "    }\n",
       "\n",
       "    .dataframe tbody tr th {\n",
       "        vertical-align: top;\n",
       "    }\n",
       "\n",
       "    .dataframe thead th {\n",
       "        text-align: right;\n",
       "    }\n",
       "</style>\n",
       "<table border=\"1\" class=\"dataframe\">\n",
       "  <thead>\n",
       "    <tr style=\"text-align: right;\">\n",
       "      <th></th>\n",
       "      <th>loan_repaid</th>\n",
       "      <th>loan_status</th>\n",
       "    </tr>\n",
       "  </thead>\n",
       "  <tbody>\n",
       "    <tr>\n",
       "      <th>0</th>\n",
       "      <td>1</td>\n",
       "      <td>Fully Paid</td>\n",
       "    </tr>\n",
       "    <tr>\n",
       "      <th>1</th>\n",
       "      <td>1</td>\n",
       "      <td>Fully Paid</td>\n",
       "    </tr>\n",
       "    <tr>\n",
       "      <th>2</th>\n",
       "      <td>1</td>\n",
       "      <td>Fully Paid</td>\n",
       "    </tr>\n",
       "    <tr>\n",
       "      <th>3</th>\n",
       "      <td>1</td>\n",
       "      <td>Fully Paid</td>\n",
       "    </tr>\n",
       "    <tr>\n",
       "      <th>4</th>\n",
       "      <td>0</td>\n",
       "      <td>Charged Off</td>\n",
       "    </tr>\n",
       "    <tr>\n",
       "      <th>...</th>\n",
       "      <td>...</td>\n",
       "      <td>...</td>\n",
       "    </tr>\n",
       "    <tr>\n",
       "      <th>396025</th>\n",
       "      <td>1</td>\n",
       "      <td>Fully Paid</td>\n",
       "    </tr>\n",
       "    <tr>\n",
       "      <th>396026</th>\n",
       "      <td>1</td>\n",
       "      <td>Fully Paid</td>\n",
       "    </tr>\n",
       "    <tr>\n",
       "      <th>396027</th>\n",
       "      <td>1</td>\n",
       "      <td>Fully Paid</td>\n",
       "    </tr>\n",
       "    <tr>\n",
       "      <th>396028</th>\n",
       "      <td>1</td>\n",
       "      <td>Fully Paid</td>\n",
       "    </tr>\n",
       "    <tr>\n",
       "      <th>396029</th>\n",
       "      <td>1</td>\n",
       "      <td>Fully Paid</td>\n",
       "    </tr>\n",
       "  </tbody>\n",
       "</table>\n",
       "<p>396030 rows × 2 columns</p>\n",
       "</div>"
      ],
      "text/plain": [
       "        loan_repaid  loan_status\n",
       "0                 1   Fully Paid\n",
       "1                 1   Fully Paid\n",
       "2                 1   Fully Paid\n",
       "3                 1   Fully Paid\n",
       "4                 0  Charged Off\n",
       "...             ...          ...\n",
       "396025            1   Fully Paid\n",
       "396026            1   Fully Paid\n",
       "396027            1   Fully Paid\n",
       "396028            1   Fully Paid\n",
       "396029            1   Fully Paid\n",
       "\n",
       "[396030 rows x 2 columns]"
      ]
     },
     "execution_count": 39,
     "metadata": {
      "tags": []
     },
     "output_type": "execute_result"
    }
   ],
   "source": [
    "df[['loan_repaid','loan_status']]"
   ]
  },
  {
   "cell_type": "markdown",
   "metadata": {
    "id": "kdVx0w1U6zfd"
   },
   "source": [
    "**Tâche Challenge : Créer un diagramme en barres (bar plot) montrant la corrélation entre les features numériques et la nouvelle colonne loan_repaid. (Note : C'est difficile mais cela peut être réalisé en une seule ligne) [Lien utile](https://pandas.pydata.org/pandas-docs/stable/reference/api/pandas.DataFrame.plot.bar.html)**"
   ]
  },
  {
   "cell_type": "code",
   "execution_count": null,
   "metadata": {
    "colab": {
     "base_uri": "https://localhost:8080/",
     "height": 365
    },
    "executionInfo": {
     "elapsed": 18586,
     "status": "ok",
     "timestamp": 1594914043670,
     "user": {
      "displayName": "Rod Paris",
      "photoUrl": "",
      "userId": "10535238717210992784"
     },
     "user_tz": -120
    },
    "id": "HRUMaljR7RTi",
    "outputId": "a30e199a-f098-4817-b5b1-e32a4b6668cf"
   },
   "outputs": [
    {
     "data": {
      "image/png": "[encoded data removed]",
      "text/plain": [
       "<Figure size 432x288 with 1 Axes>"
      ]
     },
     "metadata": {
      "needs_background": "light",
      "tags": []
     },
     "output_type": "display_data"
    }
   ],
   "source": [
    "df.corr()['loan_repaid'].sort_values().drop('loan_repaid').plot(kind='bar');"
   ]
  },
  {
   "cell_type": "markdown",
   "metadata": {
    "id": "pjqGVmNB7vYv"
   },
   "source": [
    "---\n",
    "---\n",
    "# Section 2 : Pré-traitement des Données\n",
    "\n",
    "**Objectifs de la section : Supprimer ou compléter les données manquantes. Supprimer les éléments inutiles ou répétitifs. Convertir les features de type catégorie en variables dummies.**"
   ]
  },
  {
   "cell_type": "code",
   "execution_count": null,
   "metadata": {
    "colab": {
     "base_uri": "https://localhost:8080/",
     "height": 394
    },
    "executionInfo": {
     "elapsed": 18558,
     "status": "ok",
     "timestamp": 1594914043672,
     "user": {
      "displayName": "Rod Paris",
      "photoUrl": "",
      "userId": "10535238717210992784"
     },
     "user_tz": -120
    },
    "id": "hsqXhJX57RtY",
    "outputId": "4e8efd43-ce37-43a4-8385-8593e6b2e780"
   },
   "outputs": [
    {
     "data": {
      "text/html": [
       "<div>\n",
       "<style scoped>\n",
       "    .dataframe tbody tr th:only-of-type {\n",
       "        vertical-align: middle;\n",
       "    }\n",
       "\n",
       "    .dataframe tbody tr th {\n",
       "        vertical-align: top;\n",
       "    }\n",
       "\n",
       "    .dataframe thead th {\n",
       "        text-align: right;\n",
       "    }\n",
       "</style>\n",
       "<table border=\"1\" class=\"dataframe\">\n",
       "  <thead>\n",
       "    <tr style=\"text-align: right;\">\n",
       "      <th></th>\n",
       "      <th>loan_amnt</th>\n",
       "      <th>term</th>\n",
       "      <th>int_rate</th>\n",
       "      <th>installment</th>\n",
       "      <th>grade</th>\n",
       "      <th>sub_grade</th>\n",
       "      <th>emp_title</th>\n",
       "      <th>emp_length</th>\n",
       "      <th>home_ownership</th>\n",
       "      <th>annual_inc</th>\n",
       "      <th>verification_status</th>\n",
       "      <th>issue_d</th>\n",
       "      <th>loan_status</th>\n",
       "      <th>purpose</th>\n",
       "      <th>title</th>\n",
       "      <th>dti</th>\n",
       "      <th>earliest_cr_line</th>\n",
       "      <th>open_acc</th>\n",
       "      <th>pub_rec</th>\n",
       "      <th>revol_bal</th>\n",
       "      <th>revol_util</th>\n",
       "      <th>total_acc</th>\n",
       "      <th>initial_list_status</th>\n",
       "      <th>application_type</th>\n",
       "      <th>mort_acc</th>\n",
       "      <th>pub_rec_bankruptcies</th>\n",
       "      <th>address</th>\n",
       "      <th>loan_repaid</th>\n",
       "    </tr>\n",
       "  </thead>\n",
       "  <tbody>\n",
       "    <tr>\n",
       "      <th>0</th>\n",
       "      <td>10000.0</td>\n",
       "      <td>36 months</td>\n",
       "      <td>11.44</td>\n",
       "      <td>329.48</td>\n",
       "      <td>B</td>\n",
       "      <td>B4</td>\n",
       "      <td>Marketing</td>\n",
       "      <td>10+ years</td>\n",
       "      <td>RENT</td>\n",
       "      <td>117000.0</td>\n",
       "      <td>Not Verified</td>\n",
       "      <td>Jan-2015</td>\n",
       "      <td>Fully Paid</td>\n",
       "      <td>vacation</td>\n",
       "      <td>Vacation</td>\n",
       "      <td>26.24</td>\n",
       "      <td>Jun-1990</td>\n",
       "      <td>16.0</td>\n",
       "      <td>0.0</td>\n",
       "      <td>36369.0</td>\n",
       "      <td>41.8</td>\n",
       "      <td>25.0</td>\n",
       "      <td>w</td>\n",
       "      <td>INDIVIDUAL</td>\n",
       "      <td>0.0</td>\n",
       "      <td>0.0</td>\n",
       "      <td>0174 Michelle Gateway\\r\\nMendozaberg, OK 22690</td>\n",
       "      <td>1</td>\n",
       "    </tr>\n",
       "    <tr>\n",
       "      <th>1</th>\n",
       "      <td>8000.0</td>\n",
       "      <td>36 months</td>\n",
       "      <td>11.99</td>\n",
       "      <td>265.68</td>\n",
       "      <td>B</td>\n",
       "      <td>B5</td>\n",
       "      <td>Credit analyst</td>\n",
       "      <td>4 years</td>\n",
       "      <td>MORTGAGE</td>\n",
       "      <td>65000.0</td>\n",
       "      <td>Not Verified</td>\n",
       "      <td>Jan-2015</td>\n",
       "      <td>Fully Paid</td>\n",
       "      <td>debt_consolidation</td>\n",
       "      <td>Debt consolidation</td>\n",
       "      <td>22.05</td>\n",
       "      <td>Jul-2004</td>\n",
       "      <td>17.0</td>\n",
       "      <td>0.0</td>\n",
       "      <td>20131.0</td>\n",
       "      <td>53.3</td>\n",
       "      <td>27.0</td>\n",
       "      <td>f</td>\n",
       "      <td>INDIVIDUAL</td>\n",
       "      <td>3.0</td>\n",
       "      <td>0.0</td>\n",
       "      <td>1076 Carney Fort Apt. 347\\r\\nLoganmouth, SD 05113</td>\n",
       "      <td>1</td>\n",
       "    </tr>\n",
       "    <tr>\n",
       "      <th>2</th>\n",
       "      <td>15600.0</td>\n",
       "      <td>36 months</td>\n",
       "      <td>10.49</td>\n",
       "      <td>506.97</td>\n",
       "      <td>B</td>\n",
       "      <td>B3</td>\n",
       "      <td>Statistician</td>\n",
       "      <td>&lt; 1 year</td>\n",
       "      <td>RENT</td>\n",
       "      <td>43057.0</td>\n",
       "      <td>Source Verified</td>\n",
       "      <td>Jan-2015</td>\n",
       "      <td>Fully Paid</td>\n",
       "      <td>credit_card</td>\n",
       "      <td>Credit card refinancing</td>\n",
       "      <td>12.79</td>\n",
       "      <td>Aug-2007</td>\n",
       "      <td>13.0</td>\n",
       "      <td>0.0</td>\n",
       "      <td>11987.0</td>\n",
       "      <td>92.2</td>\n",
       "      <td>26.0</td>\n",
       "      <td>f</td>\n",
       "      <td>INDIVIDUAL</td>\n",
       "      <td>0.0</td>\n",
       "      <td>0.0</td>\n",
       "      <td>87025 Mark Dale Apt. 269\\r\\nNew Sabrina, WV 05113</td>\n",
       "      <td>1</td>\n",
       "    </tr>\n",
       "    <tr>\n",
       "      <th>3</th>\n",
       "      <td>7200.0</td>\n",
       "      <td>36 months</td>\n",
       "      <td>6.49</td>\n",
       "      <td>220.65</td>\n",
       "      <td>A</td>\n",
       "      <td>A2</td>\n",
       "      <td>Client Advocate</td>\n",
       "      <td>6 years</td>\n",
       "      <td>RENT</td>\n",
       "      <td>54000.0</td>\n",
       "      <td>Not Verified</td>\n",
       "      <td>Nov-2014</td>\n",
       "      <td>Fully Paid</td>\n",
       "      <td>credit_card</td>\n",
       "      <td>Credit card refinancing</td>\n",
       "      <td>2.60</td>\n",
       "      <td>Sep-2006</td>\n",
       "      <td>6.0</td>\n",
       "      <td>0.0</td>\n",
       "      <td>5472.0</td>\n",
       "      <td>21.5</td>\n",
       "      <td>13.0</td>\n",
       "      <td>f</td>\n",
       "      <td>INDIVIDUAL</td>\n",
       "      <td>0.0</td>\n",
       "      <td>0.0</td>\n",
       "      <td>823 Reid Ford\\r\\nDelacruzside, MA 00813</td>\n",
       "      <td>1</td>\n",
       "    </tr>\n",
       "    <tr>\n",
       "      <th>4</th>\n",
       "      <td>24375.0</td>\n",
       "      <td>60 months</td>\n",
       "      <td>17.27</td>\n",
       "      <td>609.33</td>\n",
       "      <td>C</td>\n",
       "      <td>C5</td>\n",
       "      <td>Destiny Management Inc.</td>\n",
       "      <td>9 years</td>\n",
       "      <td>MORTGAGE</td>\n",
       "      <td>55000.0</td>\n",
       "      <td>Verified</td>\n",
       "      <td>Apr-2013</td>\n",
       "      <td>Charged Off</td>\n",
       "      <td>credit_card</td>\n",
       "      <td>Credit Card Refinance</td>\n",
       "      <td>33.95</td>\n",
       "      <td>Mar-1999</td>\n",
       "      <td>13.0</td>\n",
       "      <td>0.0</td>\n",
       "      <td>24584.0</td>\n",
       "      <td>69.8</td>\n",
       "      <td>43.0</td>\n",
       "      <td>f</td>\n",
       "      <td>INDIVIDUAL</td>\n",
       "      <td>1.0</td>\n",
       "      <td>0.0</td>\n",
       "      <td>679 Luna Roads\\r\\nGreggshire, VA 11650</td>\n",
       "      <td>0</td>\n",
       "    </tr>\n",
       "  </tbody>\n",
       "</table>\n",
       "</div>"
      ],
      "text/plain": [
       "   loan_amnt  ... loan_repaid\n",
       "0    10000.0  ...           1\n",
       "1     8000.0  ...           1\n",
       "2    15600.0  ...           1\n",
       "3     7200.0  ...           1\n",
       "4    24375.0  ...           0\n",
       "\n",
       "[5 rows x 28 columns]"
      ]
     },
     "execution_count": 42,
     "metadata": {
      "tags": []
     },
     "output_type": "execute_result"
    }
   ],
   "source": [
    "df.head()"
   ]
  },
  {
   "cell_type": "markdown",
   "metadata": {
    "id": "M0vw-o7g8DYy"
   },
   "source": [
    "## Données manquantes\n",
    "\n",
    "**Explorons ces colonnes de données manquantes. Nous utilisons divers facteurs pour décider de leur utilité ou non, pour voir si nous devons les conserver, les éliminer ou compléter les données manquantes.**"
   ]
  },
  {
   "cell_type": "markdown",
   "metadata": {
    "id": "Pm4uBpS98iUo"
   },
   "source": [
    "**Tâche : Quelle est la taille du DataFrame ?**"
   ]
  },
  {
   "cell_type": "code",
   "execution_count": null,
   "metadata": {
    "colab": {
     "base_uri": "https://localhost:8080/",
     "height": 34
    },
    "executionInfo": {
     "elapsed": 18522,
     "status": "ok",
     "timestamp": 1594914043675,
     "user": {
      "displayName": "Rod Paris",
      "photoUrl": "",
      "userId": "10535238717210992784"
     },
     "user_tz": -120
    },
    "id": "KRuC8o9N8gOS",
    "outputId": "05ddd29a-058b-4158-e804-5ca1aea8121e"
   },
   "outputs": [
    {
     "data": {
      "text/plain": [
       "396030"
      ]
     },
     "execution_count": 44,
     "metadata": {
      "tags": []
     },
     "output_type": "execute_result"
    }
   ],
   "source": [
    "len(df)"
   ]
  },
  {
   "cell_type": "markdown",
   "metadata": {
    "id": "rm1-tm3i8sQs"
   },
   "source": [
    "**Tâche : Créer une Série qui affiche le nombre total de valeurs manquantes par colonne.**"
   ]
  },
  {
   "cell_type": "code",
   "execution_count": null,
   "metadata": {
    "colab": {
     "base_uri": "https://localhost:8080/",
     "height": 510
    },
    "executionInfo": {
     "elapsed": 18819,
     "status": "ok",
     "timestamp": 1594914044008,
     "user": {
      "displayName": "Rod Paris",
      "photoUrl": "",
      "userId": "10535238717210992784"
     },
     "user_tz": -120
    },
    "id": "j2kfwKf28wKj",
    "outputId": "e9afdae6-80de-4266-e07f-524176690f3c"
   },
   "outputs": [
    {
     "data": {
      "text/plain": [
       "loan_amnt                   0\n",
       "term                        0\n",
       "int_rate                    0\n",
       "installment                 0\n",
       "grade                       0\n",
       "sub_grade                   0\n",
       "emp_title               22927\n",
       "emp_length              18301\n",
       "home_ownership              0\n",
       "annual_inc                  0\n",
       "verification_status         0\n",
       "issue_d                     0\n",
       "loan_status                 0\n",
       "purpose                     0\n",
       "title                    1755\n",
       "dti                         0\n",
       "earliest_cr_line            0\n",
       "open_acc                    0\n",
       "pub_rec                     0\n",
       "revol_bal                   0\n",
       "revol_util                276\n",
       "total_acc                   0\n",
       "initial_list_status         0\n",
       "application_type            0\n",
       "mort_acc                37795\n",
       "pub_rec_bankruptcies      535\n",
       "address                     0\n",
       "loan_repaid                 0\n",
       "dtype: int64"
      ]
     },
     "execution_count": 46,
     "metadata": {
      "tags": []
     },
     "output_type": "execute_result"
    }
   ],
   "source": [
    "df.isnull().sum()"
   ]
  },
  {
   "cell_type": "markdown",
   "metadata": {
    "id": "r_dsvOXK83rE"
   },
   "source": [
    "**Tâche : Convertir cette Série en pourcentage du total du DataFrame**"
   ]
  },
  {
   "cell_type": "code",
   "execution_count": null,
   "metadata": {
    "colab": {
     "base_uri": "https://localhost:8080/",
     "height": 510
    },
    "executionInfo": {
     "elapsed": 18792,
     "status": "ok",
     "timestamp": 1594914044010,
     "user": {
      "displayName": "Rod Paris",
      "photoUrl": "",
      "userId": "10535238717210992784"
     },
     "user_tz": -120
    },
    "id": "P7losjSB86z4",
    "outputId": "5db429f3-c8b4-486d-c252-e1f228ea1d22"
   },
   "outputs": [
    {
     "data": {
      "text/plain": [
       "loan_amnt               0.000000\n",
       "term                    0.000000\n",
       "int_rate                0.000000\n",
       "installment             0.000000\n",
       "grade                   0.000000\n",
       "sub_grade               0.000000\n",
       "emp_title               5.789208\n",
       "emp_length              4.621115\n",
       "home_ownership          0.000000\n",
       "annual_inc              0.000000\n",
       "verification_status     0.000000\n",
       "issue_d                 0.000000\n",
       "loan_status             0.000000\n",
       "purpose                 0.000000\n",
       "title                   0.443148\n",
       "dti                     0.000000\n",
       "earliest_cr_line        0.000000\n",
       "open_acc                0.000000\n",
       "pub_rec                 0.000000\n",
       "revol_bal               0.000000\n",
       "revol_util              0.069692\n",
       "total_acc               0.000000\n",
       "initial_list_status     0.000000\n",
       "application_type        0.000000\n",
       "mort_acc                9.543469\n",
       "pub_rec_bankruptcies    0.135091\n",
       "address                 0.000000\n",
       "loan_repaid             0.000000\n",
       "dtype: float64"
      ]
     },
     "execution_count": 48,
     "metadata": {
      "tags": []
     },
     "output_type": "execute_result"
    }
   ],
   "source": [
    "100* df.isnull().sum()/len(df)"
   ]
  },
  {
   "cell_type": "markdown",
   "metadata": {
    "id": "0RT68OW78-Ra"
   },
   "source": [
    "**Tâche : Examinons les features emp_title et emp_length pour voir s'il est possible de les éliminer. Imprimez les informations relatives à ces features en utilisant la fonction feat_info() qui se trouve en haut de ce notebook.**"
   ]
  },
  {
   "cell_type": "code",
   "execution_count": null,
   "metadata": {
    "colab": {
     "base_uri": "https://localhost:8080/",
     "height": 85
    },
    "executionInfo": {
     "elapsed": 18760,
     "status": "ok",
     "timestamp": 1594914044012,
     "user": {
      "displayName": "Rod Paris",
      "photoUrl": "",
      "userId": "10535238717210992784"
     },
     "user_tz": -120
    },
    "id": "ni0FN3DX9LRs",
    "outputId": "e5650c2c-53cd-44a2-84c2-d6e310c13f42"
   },
   "outputs": [
    {
     "name": "stdout",
     "output_type": "stream",
     "text": [
      "The job title supplied by the Borrower when applying for the loan.*\n",
      "\n",
      "\n",
      "Employment length in years. Possible values are between 0 and 10 where 0 means less than one year and 10 means ten or more years. \n"
     ]
    }
   ],
   "source": [
    "feat_info('emp_title')\n",
    "print('\\n')\n",
    "feat_info('emp_length')"
   ]
  },
  {
   "cell_type": "markdown",
   "metadata": {
    "id": "DI61kTzb97gk"
   },
   "source": [
    "**Tâche : Combien y a-t-il de titres d'emploi (emp_title) uniques ?**"
   ]
  },
  {
   "cell_type": "code",
   "execution_count": null,
   "metadata": {
    "colab": {
     "base_uri": "https://localhost:8080/",
     "height": 34
    },
    "executionInfo": {
     "elapsed": 19016,
     "status": "ok",
     "timestamp": 1594914044300,
     "user": {
      "displayName": "Rod Paris",
      "photoUrl": "",
      "userId": "10535238717210992784"
     },
     "user_tz": -120
    },
    "id": "dTf_1Quh_KLP",
    "outputId": "913244e2-c26f-4058-d636-e1f6dff00abb"
   },
   "outputs": [
    {
     "data": {
      "text/plain": [
       "173105"
      ]
     },
     "execution_count": 52,
     "metadata": {
      "tags": []
     },
     "output_type": "execute_result"
    }
   ],
   "source": [
    "df['emp_title'].nunique()"
   ]
  },
  {
   "cell_type": "code",
   "execution_count": null,
   "metadata": {
    "colab": {
     "base_uri": "https://localhost:8080/",
     "height": 221
    },
    "executionInfo": {
     "elapsed": 18986,
     "status": "ok",
     "timestamp": 1594914044304,
     "user": {
      "displayName": "Rod Paris",
      "photoUrl": "",
      "userId": "10535238717210992784"
     },
     "user_tz": -120
    },
    "id": "28A6XD3w_Kf-",
    "outputId": "137a8dc1-91f8-4c73-a7df-d8cbaf997900"
   },
   "outputs": [
    {
     "data": {
      "text/plain": [
       "Teacher                               4389\n",
       "Manager                               4250\n",
       "Registered Nurse                      1856\n",
       "RN                                    1846\n",
       "Supervisor                            1830\n",
       "                                      ... \n",
       "Business Test Analyst                    1\n",
       "Promesa Behavioral Health                1\n",
       "medical assisstant                       1\n",
       "Atkinson Management Resources Inc.       1\n",
       "DISTRICT SUPERVISOR                      1\n",
       "Name: emp_title, Length: 173105, dtype: int64"
      ]
     },
     "execution_count": 53,
     "metadata": {
      "tags": []
     },
     "output_type": "execute_result"
    }
   ],
   "source": [
    "df['emp_title'].value_counts()"
   ]
  },
  {
   "cell_type": "markdown",
   "metadata": {
    "id": "wlWYJ9Au_qOq"
   },
   "source": [
    "**Tâche : En réalité, il y a trop de titres de postes uniques pour essayer de les convertir en une feature de variable dummy. Supprimons cette colonne emp_title.**"
   ]
  },
  {
   "cell_type": "code",
   "execution_count": null,
   "metadata": {
    "id": "CY8jVD4q_nbf"
   },
   "outputs": [],
   "source": [
    "# Code ici"
   ]
  },
  {
   "cell_type": "code",
   "execution_count": null,
   "metadata": {
    "id": "27m6kVw3__l6"
   },
   "outputs": [],
   "source": [
    "df = df.drop('emp_title',axis=1)"
   ]
  },
  {
   "cell_type": "markdown",
   "metadata": {
    "id": "tpClndu4AC6J"
   },
   "source": [
    "**Tâche : Créer un graphique de comptage de la colonne de feature emp_length. Défi : Trier l'ordre des valeurs.**"
   ]
  },
  {
   "cell_type": "code",
   "execution_count": null,
   "metadata": {
    "colab": {
     "base_uri": "https://localhost:8080/",
     "height": 204
    },
    "executionInfo": {
     "elapsed": 19237,
     "status": "ok",
     "timestamp": 1594914044621,
     "user": {
      "displayName": "Rod Paris",
      "photoUrl": "",
      "userId": "10535238717210992784"
     },
     "user_tz": -120
    },
    "id": "M8q6fnJHAJSO",
    "outputId": "d2a9ff22-52f4-45b0-846f-7d4b0ecda1f0"
   },
   "outputs": [
    {
     "data": {
      "text/plain": [
       "['1 year',\n",
       " '10+ years',\n",
       " '2 years',\n",
       " '3 years',\n",
       " '4 years',\n",
       " '5 years',\n",
       " '6 years',\n",
       " '7 years',\n",
       " '8 years',\n",
       " '9 years',\n",
       " '< 1 year']"
      ]
     },
     "execution_count": 57,
     "metadata": {
      "tags": []
     },
     "output_type": "execute_result"
    }
   ],
   "source": [
    "sorted(df['emp_length'].dropna().unique())"
   ]
  },
  {
   "cell_type": "code",
   "execution_count": null,
   "metadata": {
    "id": "XLjBZ1kMAJiX"
   },
   "outputs": [],
   "source": [
    "emp_length_order = [ '< 1 year',\n",
    "                      '1 year',\n",
    "                     '2 years',\n",
    "                     '3 years',\n",
    "                     '4 years',\n",
    "                     '5 years',\n",
    "                     '6 years',\n",
    "                     '7 years',\n",
    "                     '8 years',\n",
    "                     '9 years',\n",
    "                     '10+ years']"
   ]
  },
  {
   "cell_type": "code",
   "execution_count": null,
   "metadata": {
    "colab": {
     "base_uri": "https://localhost:8080/",
     "height": 280
    },
    "executionInfo": {
     "elapsed": 19678,
     "status": "ok",
     "timestamp": 1594914045089,
     "user": {
      "displayName": "Rod Paris",
      "photoUrl": "",
      "userId": "10535238717210992784"
     },
     "user_tz": -120
    },
    "id": "mwHeY25yAMDv",
    "outputId": "98eec687-fa46-4c82-98e8-93535e96c130"
   },
   "outputs": [
    {
     "data": {
      "image/png": "[encoded data removed]",
      "text/plain": [
       "<Figure size 864x288 with 1 Axes>"
      ]
     },
     "metadata": {
      "needs_background": "light",
      "tags": []
     },
     "output_type": "display_data"
    }
   ],
   "source": [
    "plt.figure(figsize=(12,4))\n",
    "\n",
    "sns.countplot(x='emp_length',data=df,order=emp_length_order);"
   ]
  },
  {
   "cell_type": "markdown",
   "metadata": {
    "id": "LhsD8gX3AR8K"
   },
   "source": [
    "**Tâche : Tracer ce même décompte avec un paramètre hue de séparation entre \"Fully Paid\" et \"Charged Off\"**"
   ]
  },
  {
   "cell_type": "code",
   "execution_count": null,
   "metadata": {
    "colab": {
     "base_uri": "https://localhost:8080/",
     "height": 280
    },
    "executionInfo": {
     "elapsed": 20098,
     "status": "ok",
     "timestamp": 1594914045539,
     "user": {
      "displayName": "Rod Paris",
      "photoUrl": "",
      "userId": "10535238717210992784"
     },
     "user_tz": -120
    },
    "id": "mXtF4q7JAkaA",
    "outputId": "76e47922-5c65-4aa8-e0de-62b3114b2af5"
   },
   "outputs": [
    {
     "data": {
      "image/png": "[encoded data removed]",
      "text/plain": [
       "<Figure size 864x288 with 1 Axes>"
      ]
     },
     "metadata": {
      "needs_background": "light",
      "tags": []
     },
     "output_type": "display_data"
    }
   ],
   "source": [
    "plt.figure(figsize=(12,4))\n",
    "sns.countplot(x='emp_length',data=df,order=emp_length_order,hue='loan_status');"
   ]
  },
  {
   "cell_type": "markdown",
   "metadata": {
    "id": "pcHcQam6ApIp"
   },
   "source": [
    "**Tâche difficile (challenge) : cela ne nous indique pas encore vraiment s'il existe une relation étroite entre la durée de l'emploi et le fait de ne pas solder son emprunt, ce que nous voulons, c'est le pourcentage de prêts non remboursés par catégorie. Il s'agit essentiellement de nous informer du pourcentage de personnes par catégorie d'emploi qui n'ont pas remboursé leur prêt. Il existe une multitude de façons de créer cette Série. Une fois que vous l'avez créée, voyez si vous pouvez la visualiser avec un [diagramme à barres](https://pandas.pydata.org/pandas-docs/version/0.23.4/generated/pandas.DataFrame.plot.html). Cela peut être délicat, reportez-vous aux solutions si vous êtes bloqué sur la création de cette Série.**"
   ]
  },
  {
   "cell_type": "code",
   "execution_count": null,
   "metadata": {
    "id": "a8szczjlA3HB"
   },
   "outputs": [],
   "source": [
    "emp_co = df[df['loan_status']==\"Charged Off\"].groupby(\"emp_length\").count()['loan_status']"
   ]
  },
  {
   "cell_type": "code",
   "execution_count": null,
   "metadata": {
    "id": "Fydh2eRlA3X6"
   },
   "outputs": [],
   "source": [
    "emp_fp = df[df['loan_status']==\"Fully Paid\"].groupby(\"emp_length\").count()['loan_status']"
   ]
  },
  {
   "cell_type": "code",
   "execution_count": null,
   "metadata": {
    "id": "44kOblTgA7M5"
   },
   "outputs": [],
   "source": [
    "emp_len = emp_co/emp_fp"
   ]
  },
  {
   "cell_type": "code",
   "execution_count": null,
   "metadata": {
    "colab": {
     "base_uri": "https://localhost:8080/",
     "height": 238
    },
    "executionInfo": {
     "elapsed": 20516,
     "status": "ok",
     "timestamp": 1594914046049,
     "user": {
      "displayName": "Rod Paris",
      "photoUrl": "",
      "userId": "10535238717210992784"
     },
     "user_tz": -120
    },
    "id": "c21Tc13dA8vs",
    "outputId": "35b7513f-f708-44a1-cbe5-2f2fbf659621"
   },
   "outputs": [
    {
     "data": {
      "text/plain": [
       "emp_length\n",
       "1 year       0.248649\n",
       "10+ years    0.225770\n",
       "2 years      0.239560\n",
       "3 years      0.242593\n",
       "4 years      0.238213\n",
       "5 years      0.237911\n",
       "6 years      0.233341\n",
       "7 years      0.241887\n",
       "8 years      0.249625\n",
       "9 years      0.250735\n",
       "< 1 year     0.260830\n",
       "Name: loan_status, dtype: float64"
      ]
     },
     "execution_count": 66,
     "metadata": {
      "tags": []
     },
     "output_type": "execute_result"
    }
   ],
   "source": [
    "emp_len"
   ]
  },
  {
   "cell_type": "code",
   "execution_count": null,
   "metadata": {
    "colab": {
     "base_uri": "https://localhost:8080/",
     "height": 322
    },
    "executionInfo": {
     "elapsed": 20499,
     "status": "ok",
     "timestamp": 1594914046050,
     "user": {
      "displayName": "Rod Paris",
      "photoUrl": "",
      "userId": "10535238717210992784"
     },
     "user_tz": -120
    },
    "id": "hvVfJMIbA-GL",
    "outputId": "9639dd2c-cab2-47a0-988e-752c2e16e7c2"
   },
   "outputs": [
    {
     "data": {
      "image/png": "[encoded data removed]",
      "text/plain": [
       "<Figure size 432x288 with 1 Axes>"
      ]
     },
     "metadata": {
      "needs_background": "light",
      "tags": []
     },
     "output_type": "display_data"
    }
   ],
   "source": [
    "emp_len.plot(kind='bar');"
   ]
  },
  {
   "cell_type": "markdown",
   "metadata": {
    "id": "N_3H5FzHBE4W"
   },
   "source": [
    "**Tâche : Les taux de Charged Off sont extrêmement similaires pour toutes les durées d'emploi. Continuez et éliminez la colonne emp_length.**"
   ]
  },
  {
   "cell_type": "code",
   "execution_count": null,
   "metadata": {
    "id": "fgZraVokBUwP"
   },
   "outputs": [],
   "source": [
    "df = df.drop('emp_length',axis=1)"
   ]
  },
  {
   "cell_type": "markdown",
   "metadata": {
    "id": "ywo_4jNTBYXW"
   },
   "source": [
    "**Tâche : Revoir le DataFrame pour voir quelles sont les colonnes de features pour lesquelles il manque encore des données.**"
   ]
  },
  {
   "cell_type": "code",
   "execution_count": null,
   "metadata": {
    "colab": {
     "base_uri": "https://localhost:8080/",
     "height": 476
    },
    "executionInfo": {
     "elapsed": 20605,
     "status": "ok",
     "timestamp": 1594914046358,
     "user": {
      "displayName": "Rod Paris",
      "photoUrl": "",
      "userId": "10535238717210992784"
     },
     "user_tz": -120
    },
    "id": "hKFhY5EPBcyo",
    "outputId": "ee479f24-3e89-4379-8b1f-b0b252410e97"
   },
   "outputs": [
    {
     "data": {
      "text/plain": [
       "loan_amnt                   0\n",
       "term                        0\n",
       "int_rate                    0\n",
       "installment                 0\n",
       "grade                       0\n",
       "sub_grade                   0\n",
       "home_ownership              0\n",
       "annual_inc                  0\n",
       "verification_status         0\n",
       "issue_d                     0\n",
       "loan_status                 0\n",
       "purpose                     0\n",
       "title                    1755\n",
       "dti                         0\n",
       "earliest_cr_line            0\n",
       "open_acc                    0\n",
       "pub_rec                     0\n",
       "revol_bal                   0\n",
       "revol_util                276\n",
       "total_acc                   0\n",
       "initial_list_status         0\n",
       "application_type            0\n",
       "mort_acc                37795\n",
       "pub_rec_bankruptcies      535\n",
       "address                     0\n",
       "loan_repaid                 0\n",
       "dtype: int64"
      ]
     },
     "execution_count": 71,
     "metadata": {
      "tags": []
     },
     "output_type": "execute_result"
    }
   ],
   "source": [
    "df.isnull().sum()"
   ]
  },
  {
   "cell_type": "markdown",
   "metadata": {
    "id": "hqKpNNQgBgOg"
   },
   "source": [
    "**Tâche : Examinez le titre du prêt (colonne title) par rapport à l'objet du prêt (colonne purpose). S'agit-il d'une information répétitive ?**"
   ]
  },
  {
   "cell_type": "code",
   "execution_count": null,
   "metadata": {
    "colab": {
     "base_uri": "https://localhost:8080/",
     "height": 204
    },
    "executionInfo": {
     "elapsed": 20527,
     "status": "ok",
     "timestamp": 1594914046360,
     "user": {
      "displayName": "Rod Paris",
      "photoUrl": "",
      "userId": "10535238717210992784"
     },
     "user_tz": -120
    },
    "id": "zYtN6COBB5xP",
    "outputId": "c605d7a4-f3ef-407b-c32f-b2af34df05c8"
   },
   "outputs": [
    {
     "data": {
      "text/plain": [
       "0              vacation\n",
       "1    debt_consolidation\n",
       "2           credit_card\n",
       "3           credit_card\n",
       "4           credit_card\n",
       "5    debt_consolidation\n",
       "6      home_improvement\n",
       "7           credit_card\n",
       "8    debt_consolidation\n",
       "9    debt_consolidation\n",
       "Name: purpose, dtype: object"
      ]
     },
     "execution_count": 73,
     "metadata": {
      "tags": []
     },
     "output_type": "execute_result"
    }
   ],
   "source": [
    "df['purpose'].head(10)"
   ]
  },
  {
   "cell_type": "code",
   "execution_count": null,
   "metadata": {
    "colab": {
     "base_uri": "https://localhost:8080/",
     "height": 204
    },
    "executionInfo": {
     "elapsed": 20494,
     "status": "ok",
     "timestamp": 1594914046360,
     "user": {
      "displayName": "Rod Paris",
      "photoUrl": "",
      "userId": "10535238717210992784"
     },
     "user_tz": -120
    },
    "id": "FJFCpYr_B6BH",
    "outputId": "28a50ccf-ee30-4f1c-fe9e-619d265fdea5"
   },
   "outputs": [
    {
     "data": {
      "text/plain": [
       "0                   Vacation\n",
       "1         Debt consolidation\n",
       "2    Credit card refinancing\n",
       "3    Credit card refinancing\n",
       "4      Credit Card Refinance\n",
       "5         Debt consolidation\n",
       "6           Home improvement\n",
       "7       No More Credit Cards\n",
       "8         Debt consolidation\n",
       "9         Debt Consolidation\n",
       "Name: title, dtype: object"
      ]
     },
     "execution_count": 74,
     "metadata": {
      "tags": []
     },
     "output_type": "execute_result"
    }
   ],
   "source": [
    "df['title'].head(10)"
   ]
  },
  {
   "cell_type": "markdown",
   "metadata": {
    "id": "ogLRFUGjCgDC"
   },
   "source": [
    "**Tâche : La colonne title est simplement une sous-catégorie/description de la colonne purpose. Continuez et éliminez la colonne title.**"
   ]
  },
  {
   "cell_type": "code",
   "execution_count": null,
   "metadata": {
    "id": "5jAPPgd0CteB"
   },
   "outputs": [],
   "source": [
    "df = df.drop('title',axis=1)"
   ]
  },
  {
   "cell_type": "markdown",
   "metadata": {
    "id": "9WHYzOW3CxHa"
   },
   "source": [
    "---\n",
    "**NOTE : C'est l'une des parties les plus difficiles du projet ! Reportez-vous à la vidéo des solutions si vous avez besoin de conseils, n'hésitez pas à remplir ou à supprimer les valeurs manquantes de mort_acc comme bon vous semble ! Nous allons ici suivre une approche très spécifique**.\n",
    "\n",
    "\n",
    "---\n",
    "**Tâche : Découvrir ce que représente la feature mort_acc**"
   ]
  },
  {
   "cell_type": "code",
   "execution_count": null,
   "metadata": {
    "colab": {
     "base_uri": "https://localhost:8080/",
     "height": 34
    },
    "executionInfo": {
     "elapsed": 20404,
     "status": "ok",
     "timestamp": 1594914046364,
     "user": {
      "displayName": "Rod Paris",
      "photoUrl": "",
      "userId": "10535238717210992784"
     },
     "user_tz": -120
    },
    "id": "0nT9NpqnC6WF",
    "outputId": "98f3869d-1874-477d-dabc-510ddc60ffa4"
   },
   "outputs": [
    {
     "name": "stdout",
     "output_type": "stream",
     "text": [
      "Number of mortgage accounts.\n"
     ]
    }
   ],
   "source": [
    "feat_info('mort_acc')"
   ]
  },
  {
   "cell_type": "markdown",
   "metadata": {
    "id": "nLyaBhrZC9ln"
   },
   "source": [
    "**Tâche : créer un comptage des valeurs (value_counts) de la colonne mort_acc.**"
   ]
  },
  {
   "cell_type": "code",
   "execution_count": null,
   "metadata": {
    "colab": {
     "base_uri": "https://localhost:8080/",
     "height": 595
    },
    "executionInfo": {
     "elapsed": 20349,
     "status": "ok",
     "timestamp": 1594914046365,
     "user": {
      "displayName": "Rod Paris",
      "photoUrl": "",
      "userId": "10535238717210992784"
     },
     "user_tz": -120
    },
    "id": "4cF-tG8hDEUA",
    "outputId": "ed18082c-3310-4636-ea3c-9a13150d43ba"
   },
   "outputs": [
    {
     "data": {
      "text/plain": [
       "0.0     139777\n",
       "1.0      60416\n",
       "2.0      49948\n",
       "3.0      38049\n",
       "4.0      27887\n",
       "5.0      18194\n",
       "6.0      11069\n",
       "7.0       6052\n",
       "8.0       3121\n",
       "9.0       1656\n",
       "10.0       865\n",
       "11.0       479\n",
       "12.0       264\n",
       "13.0       146\n",
       "14.0       107\n",
       "15.0        61\n",
       "16.0        37\n",
       "17.0        22\n",
       "18.0        18\n",
       "19.0        15\n",
       "20.0        13\n",
       "24.0        10\n",
       "22.0         7\n",
       "21.0         4\n",
       "25.0         4\n",
       "27.0         3\n",
       "23.0         2\n",
       "32.0         2\n",
       "26.0         2\n",
       "31.0         2\n",
       "30.0         1\n",
       "28.0         1\n",
       "34.0         1\n",
       "Name: mort_acc, dtype: int64"
      ]
     },
     "execution_count": 80,
     "metadata": {
      "tags": []
     },
     "output_type": "execute_result"
    }
   ],
   "source": [
    "df['mort_acc'].value_counts()"
   ]
  },
  {
   "cell_type": "markdown",
   "metadata": {
    "id": "qDoxQc11DIVP"
   },
   "source": [
    "**Tâche : Il y a de nombreuses façons de traiter ces données manquantes. Nous pourrions essayer de construire un modèle simple pour les complèter, tel qu'un modèle linéaire, nous pourrions simplement les complèter en nous basant sur la moyenne des autres colonnes, ou vous pourriez même regrouper les colonnes en catégories et ensuite fixer NaN comme sa propre catégorie. Il n'y a pas d'approche 100% correcte ! Passons en revue les autres colonnes pour voir laquelle est la plus fortement corrélée à mort_acc**"
   ]
  },
  {
   "cell_type": "code",
   "execution_count": null,
   "metadata": {
    "colab": {
     "base_uri": "https://localhost:8080/",
     "height": 272
    },
    "executionInfo": {
     "elapsed": 20597,
     "status": "ok",
     "timestamp": 1594914046663,
     "user": {
      "displayName": "Rod Paris",
      "photoUrl": "",
      "userId": "10535238717210992784"
     },
     "user_tz": -120
    },
    "id": "KW9BX7-zDS-r",
    "outputId": "ff1f6d4e-5fb4-4a06-fec2-e3a5f158edf9"
   },
   "outputs": [
    {
     "name": "stdout",
     "output_type": "stream",
     "text": [
      "Correlation with the mort_acc column\n"
     ]
    },
    {
     "data": {
      "text/plain": [
       "int_rate               -0.082583\n",
       "dti                    -0.025439\n",
       "revol_util              0.007514\n",
       "pub_rec                 0.011552\n",
       "pub_rec_bankruptcies    0.027239\n",
       "loan_repaid             0.073111\n",
       "open_acc                0.109205\n",
       "installment             0.193694\n",
       "revol_bal               0.194925\n",
       "loan_amnt               0.222315\n",
       "annual_inc              0.236320\n",
       "total_acc               0.381072\n",
       "mort_acc                1.000000\n",
       "Name: mort_acc, dtype: float64"
      ]
     },
     "execution_count": 82,
     "metadata": {
      "tags": []
     },
     "output_type": "execute_result"
    }
   ],
   "source": [
    "print(\"Correlation with the mort_acc column\")\n",
    "df.corr()['mort_acc'].sort_values()"
   ]
  },
  {
   "cell_type": "markdown",
   "metadata": {
    "id": "fecGHl9rDXEW"
   },
   "source": [
    "**Tâche : On dirait que la feature total_acc est en corrélation avec la feature mort_acc, c'est logique ! Essayons cette approche fillna(). Nous allons regrouper le DataFrame par total_acc et calculer la valeur moyenne de mort_acc par entrée de total_acc. Pour obtenir le résultat ci-dessous:**"
   ]
  },
  {
   "cell_type": "code",
   "execution_count": null,
   "metadata": {
    "colab": {
     "base_uri": "https://localhost:8080/",
     "height": 255
    },
    "executionInfo": {
     "elapsed": 20573,
     "status": "ok",
     "timestamp": 1594914046665,
     "user": {
      "displayName": "Rod Paris",
      "photoUrl": "",
      "userId": "10535238717210992784"
     },
     "user_tz": -120
    },
    "id": "V4MDk-Z-DkMg",
    "outputId": "b9e6dd12-f54a-4dde-b376-3d7b58d0c27f"
   },
   "outputs": [
    {
     "name": "stdout",
     "output_type": "stream",
     "text": [
      "Mean of mort_acc column per total_acc\n"
     ]
    },
    {
     "data": {
      "text/plain": [
       "total_acc\n",
       "2.0      0.000000\n",
       "3.0      0.052023\n",
       "4.0      0.066743\n",
       "5.0      0.103289\n",
       "6.0      0.151293\n",
       "           ...   \n",
       "124.0    1.000000\n",
       "129.0    1.000000\n",
       "135.0    3.000000\n",
       "150.0    2.000000\n",
       "151.0    0.000000\n",
       "Name: mort_acc, Length: 118, dtype: float64"
      ]
     },
     "execution_count": 84,
     "metadata": {
      "tags": []
     },
     "output_type": "execute_result"
    }
   ],
   "source": [
    "print(\"Mean of mort_acc column per total_acc\")\n",
    "df.groupby('total_acc').mean()['mort_acc']"
   ]
  },
  {
   "cell_type": "markdown",
   "metadata": {
    "id": "mHWaS3w2DoOz"
   },
   "source": [
    "**Tâche Challenge : Remplissons les valeurs manquantes de mort_acc en fonction de leur valeur totale_acc. Si la valeur mort_acc est manquante, alors nous compléterons cette valeur manquante avec la valeur moyenne correspondant à sa valeur total_acc de la série que nous avons créée ci-dessus. Cela implique l'utilisation d'une méthode .apply() à deux colonnes. Consultez le lien ci-dessous pour plus d'informations, ou regardez la vidéo/notebook des solutions.**\n",
    "\n",
    "[Lien utile](https://stackoverflow.com/questions/13331698/how-to-apply-a-function-to-two-columns-of-pandas-dataframe) "
   ]
  },
  {
   "cell_type": "code",
   "execution_count": null,
   "metadata": {
    "id": "Yso4xR7pDxdX"
   },
   "outputs": [],
   "source": [
    "total_acc_avg = df.groupby('total_acc').mean()['mort_acc']"
   ]
  },
  {
   "cell_type": "code",
   "execution_count": null,
   "metadata": {
    "colab": {
     "base_uri": "https://localhost:8080/",
     "height": 34
    },
    "executionInfo": {
     "elapsed": 20377,
     "status": "ok",
     "timestamp": 1594914046667,
     "user": {
      "displayName": "Rod Paris",
      "photoUrl": "",
      "userId": "10535238717210992784"
     },
     "user_tz": -120
    },
    "id": "_6T58QG5Dxrm",
    "outputId": "6f80c9f6-cbf7-4cf8-bed4-51db9acaee22"
   },
   "outputs": [
    {
     "data": {
      "text/plain": [
       "0.0"
      ]
     },
     "execution_count": 87,
     "metadata": {
      "tags": []
     },
     "output_type": "execute_result"
    }
   ],
   "source": [
    "total_acc_avg[2.0]"
   ]
  },
  {
   "cell_type": "code",
   "execution_count": null,
   "metadata": {
    "id": "Na3cMUplDzRu"
   },
   "outputs": [],
   "source": [
    "def fill_mort_acc(total_acc,mort_acc):\n",
    "    '''\n",
    "    Accepte les valeurs total_acc et mort_acc de la ligne.\n",
    "    Vérifie si la valeur mort_acc est NaN, si c'est le cas, il renvoie la valeur avg mort_acc\n",
    "    pour la valeur total_acc correspondante pour cette ligne.\n",
    "    \n",
    "    total_acc_avg ici doit être une série ou un dictionnaire contenant la correspondance de la\n",
    "    des moyennes de mort_acc regroupées par valeurs de total_acc.\n",
    "    '''\n",
    "    if np.isnan(mort_acc):\n",
    "        return total_acc_avg[total_acc]\n",
    "    else:\n",
    "        return mort_acc"
   ]
  },
  {
   "cell_type": "code",
   "execution_count": null,
   "metadata": {
    "id": "1-GGY3uXEKOR"
   },
   "outputs": [],
   "source": [
    "df['mort_acc'] = df.apply(lambda x: fill_mort_acc(x['total_acc'], x['mort_acc']), axis=1)"
   ]
  },
  {
   "cell_type": "code",
   "execution_count": null,
   "metadata": {
    "colab": {
     "base_uri": "https://localhost:8080/",
     "height": 459
    },
    "executionInfo": {
     "elapsed": 34331,
     "status": "ok",
     "timestamp": 1594914060679,
     "user": {
      "displayName": "Rod Paris",
      "photoUrl": "",
      "userId": "10535238717210992784"
     },
     "user_tz": -120
    },
    "id": "t9VOPjYGEMxs",
    "outputId": "3da39b09-d98f-44c2-dc4e-8bc5ff816e3b"
   },
   "outputs": [
    {
     "data": {
      "text/plain": [
       "loan_amnt                 0\n",
       "term                      0\n",
       "int_rate                  0\n",
       "installment               0\n",
       "grade                     0\n",
       "sub_grade                 0\n",
       "home_ownership            0\n",
       "annual_inc                0\n",
       "verification_status       0\n",
       "issue_d                   0\n",
       "loan_status               0\n",
       "purpose                   0\n",
       "dti                       0\n",
       "earliest_cr_line          0\n",
       "open_acc                  0\n",
       "pub_rec                   0\n",
       "revol_bal                 0\n",
       "revol_util              276\n",
       "total_acc                 0\n",
       "initial_list_status       0\n",
       "application_type          0\n",
       "mort_acc                  0\n",
       "pub_rec_bankruptcies    535\n",
       "address                   0\n",
       "loan_repaid               0\n",
       "dtype: int64"
      ]
     },
     "execution_count": 90,
     "metadata": {
      "tags": []
     },
     "output_type": "execute_result"
    }
   ],
   "source": [
    "df.isnull().sum()"
   ]
  },
  {
   "cell_type": "markdown",
   "metadata": {
    "id": "kAAGAwKxER2y"
   },
   "source": [
    "**Tâche : revol_util et pub_rec_bankruptcies ont des points de données manquants, mais ils représentent moins de 0,5% du total des données. Vous pouvez supprimer les lignes qui présentent des données manquantes pour ces valeurs dans ces colonnes avec la méthode dropna().**"
   ]
  },
  {
   "cell_type": "code",
   "execution_count": null,
   "metadata": {
    "id": "UnWQWtEIEoe_"
   },
   "outputs": [],
   "source": [
    "df = df.dropna()"
   ]
  },
  {
   "cell_type": "code",
   "execution_count": null,
   "metadata": {
    "colab": {
     "base_uri": "https://localhost:8080/",
     "height": 459
    },
    "executionInfo": {
     "elapsed": 34575,
     "status": "ok",
     "timestamp": 1594914060981,
     "user": {
      "displayName": "Rod Paris",
      "photoUrl": "",
      "userId": "10535238717210992784"
     },
     "user_tz": -120
    },
    "id": "9uoyzRwFEqHx",
    "outputId": "9589a52e-0d54-401e-967d-2e3431c3e584"
   },
   "outputs": [
    {
     "data": {
      "text/plain": [
       "loan_amnt               0\n",
       "term                    0\n",
       "int_rate                0\n",
       "installment             0\n",
       "grade                   0\n",
       "sub_grade               0\n",
       "home_ownership          0\n",
       "annual_inc              0\n",
       "verification_status     0\n",
       "issue_d                 0\n",
       "loan_status             0\n",
       "purpose                 0\n",
       "dti                     0\n",
       "earliest_cr_line        0\n",
       "open_acc                0\n",
       "pub_rec                 0\n",
       "revol_bal               0\n",
       "revol_util              0\n",
       "total_acc               0\n",
       "initial_list_status     0\n",
       "application_type        0\n",
       "mort_acc                0\n",
       "pub_rec_bankruptcies    0\n",
       "address                 0\n",
       "loan_repaid             0\n",
       "dtype: int64"
      ]
     },
     "execution_count": 93,
     "metadata": {
      "tags": []
     },
     "output_type": "execute_result"
    }
   ],
   "source": [
    "df.isnull().sum()"
   ]
  },
  {
   "cell_type": "markdown",
   "metadata": {
    "id": "D59j1wcnExcH"
   },
   "source": [
    "## Variables catégorielles et Variables Dummies\n",
    "\n",
    "**Nous avons fini de travailler avec les données manquantes ! Il ne nous reste plus qu'à traiter les valeurs des chaînes de caractères des colonnes catégorielles.**"
   ]
  },
  {
   "cell_type": "markdown",
   "metadata": {
    "id": "aSj84Y-RGDXZ"
   },
   "source": [
    "**Tâche : Listez toutes les colonnes qui sont actuellement non numériques. [Lien utile](https://stackoverflow.com/questions/22470690/get-list-of-pandas-dataframe-columns-based-on-data-type)**\n",
    "\n",
    "[Un autre appel de méthode très utile](https://pandas.pydata.org/pandas-docs/stable/reference/api/pandas.DataFrame.select_dtypes.html)"
   ]
  },
  {
   "cell_type": "code",
   "execution_count": null,
   "metadata": {
    "colab": {
     "base_uri": "https://localhost:8080/",
     "height": 85
    },
    "executionInfo": {
     "elapsed": 34829,
     "status": "ok",
     "timestamp": 1594914061275,
     "user": {
      "displayName": "Rod Paris",
      "photoUrl": "",
      "userId": "10535238717210992784"
     },
     "user_tz": -120
    },
    "id": "2u_gsujEGN6r",
    "outputId": "25843b64-5f6a-416d-d9f7-97cff262fe17"
   },
   "outputs": [
    {
     "data": {
      "text/plain": [
       "Index(['term', 'grade', 'sub_grade', 'home_ownership', 'verification_status',\n",
       "       'issue_d', 'loan_status', 'purpose', 'earliest_cr_line',\n",
       "       'initial_list_status', 'application_type', 'address'],\n",
       "      dtype='object')"
      ]
     },
     "execution_count": 95,
     "metadata": {
      "tags": []
     },
     "output_type": "execute_result"
    }
   ],
   "source": [
    "df.select_dtypes(['object']).columns"
   ]
  },
  {
   "cell_type": "markdown",
   "metadata": {
    "id": "90p_2X2lGZD3"
   },
   "source": [
    "---\n",
    "**Voyons maintenant toutes les features de chaînes de caractères pour voir ce que nous devrions en faire.**\n",
    "\n",
    "---"
   ]
  },
  {
   "cell_type": "markdown",
   "metadata": {
    "id": "PHrZLK8DGhim"
   },
   "source": [
    "### Feature term"
   ]
  },
  {
   "cell_type": "markdown",
   "metadata": {
    "id": "8IBJ5hpjGrDP"
   },
   "source": [
    "**Tâche : Convertir la feature term en un type de données numériques avec la valeur 36 ou 60 en utilisant .apply() ou .map().**"
   ]
  },
  {
   "cell_type": "code",
   "execution_count": null,
   "metadata": {
    "colab": {
     "base_uri": "https://localhost:8080/",
     "height": 68
    },
    "executionInfo": {
     "elapsed": 34788,
     "status": "ok",
     "timestamp": 1594914061276,
     "user": {
      "displayName": "Rod Paris",
      "photoUrl": "",
      "userId": "10535238717210992784"
     },
     "user_tz": -120
    },
    "id": "Rk4jlVGMG4FU",
    "outputId": "b60fb65e-8050-49cd-bbd9-f846ad3e6ac8"
   },
   "outputs": [
    {
     "data": {
      "text/plain": [
       " 36 months    301247\n",
       " 60 months     93972\n",
       "Name: term, dtype: int64"
      ]
     },
     "execution_count": 97,
     "metadata": {
      "tags": []
     },
     "output_type": "execute_result"
    }
   ],
   "source": [
    "df['term'].value_counts()"
   ]
  },
  {
   "cell_type": "code",
   "execution_count": null,
   "metadata": {
    "id": "E7SeokTxG4TC"
   },
   "outputs": [],
   "source": [
    "# Ou en utilisant simplement .map()\n",
    "df['term'] = df['term'].apply(lambda term : int(term[:3]))"
   ]
  },
  {
   "cell_type": "markdown",
   "metadata": {
    "id": "BzfUdBVIHFm6"
   },
   "source": [
    "### Feature grade"
   ]
  },
  {
   "cell_type": "markdown",
   "metadata": {
    "id": "uHmF_54VHJaf"
   },
   "source": [
    "**Tâche : Nous savons déjà que la notation (grade) fait partie de sub_grade, donc supprimons la feature grade.**"
   ]
  },
  {
   "cell_type": "code",
   "execution_count": null,
   "metadata": {
    "id": "Tegqp3lUHYmj"
   },
   "outputs": [],
   "source": [
    "df = df.drop('grade',axis=1)"
   ]
  },
  {
   "cell_type": "markdown",
   "metadata": {
    "id": "nibzq-5DHcem"
   },
   "source": [
    "**Tâche : Convertir subgrade en variables dummies. Ensuite, concaténez ces nouvelles colonnes au DataFrame d'origine. N'oubliez pas de supprimer la colonne sub_grade d'origine et d'ajouter drop_first=True à votre appel get_dummies().**"
   ]
  },
  {
   "cell_type": "code",
   "execution_count": null,
   "metadata": {
    "id": "7Ih6LOB6HoKh"
   },
   "outputs": [],
   "source": [
    "subgrade_dummies = pd.get_dummies(df['sub_grade'],drop_first=True)"
   ]
  },
  {
   "cell_type": "code",
   "execution_count": null,
   "metadata": {
    "id": "h7AXuNh6HoYE"
   },
   "outputs": [],
   "source": [
    "df = pd.concat([df.drop('sub_grade',axis=1),subgrade_dummies],axis=1)"
   ]
  },
  {
   "cell_type": "code",
   "execution_count": null,
   "metadata": {
    "colab": {
     "base_uri": "https://localhost:8080/",
     "height": 187
    },
    "executionInfo": {
     "elapsed": 35014,
     "status": "ok",
     "timestamp": 1594914061610,
     "user": {
      "displayName": "Rod Paris",
      "photoUrl": "",
      "userId": "10535238717210992784"
     },
     "user_tz": -120
    },
    "id": "supZYx7cHqDK",
    "outputId": "32763f3a-35b2-4f0a-babf-5429bfdd638e"
   },
   "outputs": [
    {
     "data": {
      "text/plain": [
       "Index(['loan_amnt', 'term', 'int_rate', 'installment', 'home_ownership',\n",
       "       'annual_inc', 'verification_status', 'issue_d', 'loan_status',\n",
       "       'purpose', 'dti', 'earliest_cr_line', 'open_acc', 'pub_rec',\n",
       "       'revol_bal', 'revol_util', 'total_acc', 'initial_list_status',\n",
       "       'application_type', 'mort_acc', 'pub_rec_bankruptcies', 'address',\n",
       "       'loan_repaid', 'A2', 'A3', 'A4', 'A5', 'B1', 'B2', 'B3', 'B4', 'B5',\n",
       "       'C1', 'C2', 'C3', 'C4', 'C5', 'D1', 'D2', 'D3', 'D4', 'D5', 'E1', 'E2',\n",
       "       'E3', 'E4', 'E5', 'F1', 'F2', 'F3', 'F4', 'F5', 'G1', 'G2', 'G3', 'G4',\n",
       "       'G5'],\n",
       "      dtype='object')"
      ]
     },
     "execution_count": 104,
     "metadata": {
      "tags": []
     },
     "output_type": "execute_result"
    }
   ],
   "source": [
    "df.columns"
   ]
  },
  {
   "cell_type": "code",
   "execution_count": null,
   "metadata": {
    "colab": {
     "base_uri": "https://localhost:8080/",
     "height": 85
    },
    "executionInfo": {
     "elapsed": 36388,
     "status": "ok",
     "timestamp": 1594914063010,
     "user": {
      "displayName": "Rod Paris",
      "photoUrl": "",
      "userId": "10535238717210992784"
     },
     "user_tz": -120
    },
    "id": "5I26RBN8Hrmc",
    "outputId": "a3c09672-94b9-457a-8dd6-e043e4574cbc"
   },
   "outputs": [
    {
     "data": {
      "text/plain": [
       "Index(['home_ownership', 'verification_status', 'issue_d', 'loan_status',\n",
       "       'purpose', 'earliest_cr_line', 'initial_list_status',\n",
       "       'application_type', 'address'],\n",
       "      dtype='object')"
      ]
     },
     "execution_count": 105,
     "metadata": {
      "tags": []
     },
     "output_type": "execute_result"
    }
   ],
   "source": [
    "df.select_dtypes(['object']).columns"
   ]
  },
  {
   "cell_type": "markdown",
   "metadata": {
    "id": "le9x0Mk3HxKJ"
   },
   "source": [
    "### Features verification_status, application_type, initial_list_status, purpose "
   ]
  },
  {
   "cell_type": "markdown",
   "metadata": {
    "id": "rYklRcF8H3BN"
   },
   "source": [
    "**Tâche : Convertir ces colonnes : ['verification_status', 'application_type', 'initial_list_status', 'purpose'] en variables dummies et concaténez-les avec le DataFrame d'origine. N'oubliez pas de définir drop_first=True et de supprimer les colonnes d'origine.**"
   ]
  },
  {
   "cell_type": "code",
   "execution_count": null,
   "metadata": {
    "id": "omSU6NxmH_C5"
   },
   "outputs": [],
   "source": [
    "dummies = pd.get_dummies(df[['verification_status', 'application_type','initial_list_status','purpose']],drop_first=True)\n",
    "df = df.drop(['verification_status', 'application_type','initial_list_status','purpose'],axis=1)\n",
    "df = pd.concat([df,dummies],axis=1)"
   ]
  },
  {
   "cell_type": "markdown",
   "metadata": {
    "id": "070TgrbAIBzB"
   },
   "source": [
    "### Feature home_ownership"
   ]
  },
  {
   "cell_type": "markdown",
   "metadata": {
    "id": "KImY0vLeIFu5"
   },
   "source": [
    "**Tâche : Examiner les valeurs de la colonne home_ownership.**"
   ]
  },
  {
   "cell_type": "code",
   "execution_count": null,
   "metadata": {
    "colab": {
     "base_uri": "https://localhost:8080/",
     "height": 136
    },
    "executionInfo": {
     "elapsed": 36795,
     "status": "ok",
     "timestamp": 1594914063504,
     "user": {
      "displayName": "Rod Paris",
      "photoUrl": "",
      "userId": "10535238717210992784"
     },
     "user_tz": -120
    },
    "id": "vcibgfBrIMHC",
    "outputId": "1c166b0c-f914-488b-9cbd-d809ecb1cb8c"
   },
   "outputs": [
    {
     "data": {
      "text/plain": [
       "MORTGAGE    198022\n",
       "RENT        159395\n",
       "OWN          37660\n",
       "OTHER          110\n",
       "NONE            29\n",
       "ANY              3\n",
       "Name: home_ownership, dtype: int64"
      ]
     },
     "execution_count": 109,
     "metadata": {
      "tags": []
     },
     "output_type": "execute_result"
    }
   ],
   "source": [
    "df['home_ownership'].value_counts()"
   ]
  },
  {
   "cell_type": "markdown",
   "metadata": {
    "id": "hvWpGATcIPFt"
   },
   "source": [
    "**Tâche : Convertir ces variables en variables dummies, mais remplacer [(replace)](https://pandas.pydata.org/pandas-docs/stable/reference/api/pandas.DataFrame.replace.html) NONE et ANY par OTHER, de sorte que nous nous retrouvons avec seulement 4 catégories, MORTGAGE, RENT, OWN et OTHER. Ensuite, on les concatène avec le DataFrame d'origine. N'oubliez pas de définir drop_first=True et de supprimer les colonnes d'origine.**"
   ]
  },
  {
   "cell_type": "code",
   "execution_count": null,
   "metadata": {
    "id": "N08Iua75IhXO"
   },
   "outputs": [],
   "source": [
    "df['home_ownership']=df['home_ownership'].replace(['NONE', 'ANY'], 'OTHER')\n",
    "\n",
    "dummies = pd.get_dummies(df['home_ownership'],drop_first=True)\n",
    "df = df.drop('home_ownership',axis=1)\n",
    "df = pd.concat([df,dummies],axis=1)"
   ]
  },
  {
   "cell_type": "markdown",
   "metadata": {
    "id": "8wN9wiOUIjm5"
   },
   "source": [
    "### Feature address"
   ]
  },
  {
   "cell_type": "markdown",
   "metadata": {
    "id": "x279kNjSInXH"
   },
   "source": [
    "**Tâche : Concevons avec du feature engineering une colonne de code postal à partir de l'adresse de l'ensemble de données. Créez une colonne appelée 'zip_code' qui extrait le code postal de la colonne address.**"
   ]
  },
  {
   "cell_type": "code",
   "execution_count": null,
   "metadata": {
    "id": "MkPnQTTHI2xS"
   },
   "outputs": [],
   "source": [
    "df['zip_code'] = df['address'].apply(lambda address:address[-5:])"
   ]
  },
  {
   "cell_type": "markdown",
   "metadata": {
    "id": "HiItGTedI5id"
   },
   "source": [
    "**Tâche : Maintenant, transformez cette colonne zip_code en variables dummies en utilisant Pandas. Concaténez le résultat et éliminer la colonne zip_code d'origine en même temps que la colonne address.**"
   ]
  },
  {
   "cell_type": "code",
   "execution_count": null,
   "metadata": {
    "id": "tNBJLU5xJE5K"
   },
   "outputs": [],
   "source": [
    "dummies = pd.get_dummies(df['zip_code'],drop_first=True)\n",
    "df = df.drop(['zip_code','address'],axis=1)\n",
    "df = pd.concat([df,dummies],axis=1)"
   ]
  },
  {
   "cell_type": "markdown",
   "metadata": {
    "id": "b7VkAQI3JG-T"
   },
   "source": [
    "### Feature issue_d "
   ]
  },
  {
   "cell_type": "markdown",
   "metadata": {
    "id": "zL6Nov-SJLiG"
   },
   "source": [
    "**Tâche : Il s'agirait de fuite de données, nous ne saurions pas à l'avance si un prêt sera émis ou non en utilisant notre modèle, donc en théorie nous n'aurions pas de date d'émission, éliminez cette feature.**"
   ]
  },
  {
   "cell_type": "code",
   "execution_count": null,
   "metadata": {
    "id": "q--LcNXlJUsH"
   },
   "outputs": [],
   "source": [
    "df = df.drop('issue_d',axis=1)"
   ]
  },
  {
   "cell_type": "markdown",
   "metadata": {
    "id": "0P6De1PNJXaB"
   },
   "source": [
    "### Feature earliest_cr_line"
   ]
  },
  {
   "cell_type": "markdown",
   "metadata": {
    "id": "8P2WBLBZJcjE"
   },
   "source": [
    "**Tâche : Il semble s'agir d'une feature de time stamp historique. Vous pouvez extraire l'année de cette feature à l'aide d'une fonction .apply, puis convertissez-la en une feature numérique. Définissez cette nouvelle donnée dans une colonne feature qu'on appelle 'earliest_cr_year', puis supprimez la feature earliest_cr_line**."
   ]
  },
  {
   "cell_type": "code",
   "execution_count": null,
   "metadata": {
    "id": "h8layYFZJ4_9"
   },
   "outputs": [],
   "source": [
    "df['earliest_cr_year'] = df['earliest_cr_line'].apply(lambda date:int(date[-4:]))\n",
    "df = df.drop('earliest_cr_line',axis=1)"
   ]
  },
  {
   "cell_type": "code",
   "execution_count": null,
   "metadata": {
    "colab": {
     "base_uri": "https://localhost:8080/",
     "height": 34
    },
    "executionInfo": {
     "elapsed": 36579,
     "status": "ok",
     "timestamp": 1594914063510,
     "user": {
      "displayName": "Rod Paris",
      "photoUrl": "",
      "userId": "10535238717210992784"
     },
     "user_tz": -120
    },
    "id": "0HeJ3HoeJ5P0",
    "outputId": "12853012-a734-41e5-bc56-2ffd8fbd6610"
   },
   "outputs": [
    {
     "data": {
      "text/plain": [
       "Index(['loan_status'], dtype='object')"
      ]
     },
     "execution_count": 120,
     "metadata": {
      "tags": []
     },
     "output_type": "execute_result"
    }
   ],
   "source": [
    "df.select_dtypes(['object']).columns"
   ]
  },
  {
   "cell_type": "markdown",
   "metadata": {
    "id": "X98aTs_cKEEX"
   },
   "source": [
    "## Répartition Entraînement / Test"
   ]
  },
  {
   "cell_type": "markdown",
   "metadata": {
    "id": "cuWNK0FkKK-6"
   },
   "source": [
    "**Tâche : Importer train_test_split depuis sklearn.**"
   ]
  },
  {
   "cell_type": "code",
   "execution_count": null,
   "metadata": {
    "id": "L7mwcvYaJ6mm"
   },
   "outputs": [],
   "source": [
    "from sklearn.model_selection import train_test_split"
   ]
  },
  {
   "cell_type": "markdown",
   "metadata": {
    "id": "eOo24OaqKSB-"
   },
   "source": [
    "**Tâche : Supprimer la colonne loan_status que nous avons créée précédemment, car c'est un doublon de la colonne loan_repaid. Nous utiliserons la colonne loan_repaid, puisqu'elle contient déjà des 0 et et des 1.**"
   ]
  },
  {
   "cell_type": "code",
   "execution_count": null,
   "metadata": {
    "id": "6dcJFfJsKmKL"
   },
   "outputs": [],
   "source": [
    "df = df.drop('loan_status',axis=1)"
   ]
  },
  {
   "cell_type": "markdown",
   "metadata": {
    "id": "GbMhd3rXK_4o"
   },
   "source": [
    "**Tâche : Fixer les variables X et y aux valeurs des features et label.**"
   ]
  },
  {
   "cell_type": "code",
   "execution_count": null,
   "metadata": {
    "id": "Xl11kWKtKrTE"
   },
   "outputs": [],
   "source": [
    "X = df.drop('loan_repaid',axis=1).values\n",
    "y = df['loan_repaid'].values"
   ]
  },
  {
   "cell_type": "markdown",
   "metadata": {
    "id": "3LVpZAvyLQb-"
   },
   "source": [
    "----\n",
    "----\n",
    "\n",
    "**Partie facultative**\n",
    "\n",
    "Prendre un échantillon pour le temps d'entraînement\n",
    "\n",
    "Optionnel : Utilisez .sample() pour prendre un échantillon des 490k+ entrées afin de gagner du temps sur l'entraînement. Hautement recommandé pour les ordinateurs à faible RAM ou si vous n'utilisez pas de GPU.\n",
    "\n",
    "----\n",
    "----"
   ]
  },
  {
   "cell_type": "code",
   "execution_count": null,
   "metadata": {
    "colab": {
     "base_uri": "https://localhost:8080/",
     "height": 34
    },
    "executionInfo": {
     "elapsed": 36493,
     "status": "ok",
     "timestamp": 1594914063514,
     "user": {
      "displayName": "Rod Paris",
      "photoUrl": "",
      "userId": "10535238717210992784"
     },
     "user_tz": -120
    },
    "id": "xzZoNAdmLMU3",
    "outputId": "6aca8fbf-9466-4d86-b753-d89555b5b474"
   },
   "outputs": [
    {
     "name": "stdout",
     "output_type": "stream",
     "text": [
      "395219\n"
     ]
    }
   ],
   "source": [
    "# df = df.sample(frac=0.1,random_state=101)\n",
    "print(len(df))"
   ]
  },
  {
   "cell_type": "markdown",
   "metadata": {
    "id": "Tw5OPlfCLgZZ"
   },
   "source": [
    "**Tâche : Effectuer une répartition train/test avec test_size=0,2 et un random_state de 101,**"
   ]
  },
  {
   "cell_type": "code",
   "execution_count": null,
   "metadata": {
    "id": "oa__BKRPLnJC"
   },
   "outputs": [],
   "source": [
    "X_train, X_test, y_train, y_test = train_test_split(X, y, test_size=0.20, random_state=101)"
   ]
  },
  {
   "cell_type": "markdown",
   "metadata": {
    "id": "pgGPU-A4LstI"
   },
   "source": [
    "## Normalisation des données"
   ]
  },
  {
   "cell_type": "markdown",
   "metadata": {
    "id": "a6u6nAlXLwna"
   },
   "source": [
    "**Tâche : Utiliser une mise à l'échelle MinMaxScaler pour normaliser les données de features X_train et X_test. Rappelez-vous que nous ne voulons pas de fuite de données du dataset, donc nous adaptons que sur les données X_train.**"
   ]
  },
  {
   "cell_type": "code",
   "execution_count": null,
   "metadata": {
    "id": "diCceT-1L-Zl"
   },
   "outputs": [],
   "source": [
    "from sklearn.preprocessing import MinMaxScaler"
   ]
  },
  {
   "cell_type": "code",
   "execution_count": null,
   "metadata": {
    "id": "WZWCghiRL-km"
   },
   "outputs": [],
   "source": [
    "scaler = MinMaxScaler()"
   ]
  },
  {
   "cell_type": "code",
   "execution_count": null,
   "metadata": {
    "id": "a-EUJtvPMABo"
   },
   "outputs": [],
   "source": [
    "X_train = scaler.fit_transform(X_train)"
   ]
  },
  {
   "cell_type": "code",
   "execution_count": null,
   "metadata": {
    "id": "bwR0CnixMBNb"
   },
   "outputs": [],
   "source": [
    "X_test = scaler.transform(X_test)"
   ]
  },
  {
   "cell_type": "markdown",
   "metadata": {
    "id": "RAW944EKME5v"
   },
   "source": [
    "## Création du Modèle"
   ]
  },
  {
   "cell_type": "markdown",
   "metadata": {
    "id": "6EepTzVNMNnm"
   },
   "source": [
    "**Tâche : Exécutez la cellule ci-dessous pour importer les fonctions Keras nécessaires.**"
   ]
  },
  {
   "cell_type": "code",
   "execution_count": null,
   "metadata": {
    "id": "78KJJ3P5MCgC"
   },
   "outputs": [],
   "source": [
    "import tensorflow as tf\n",
    "from tensorflow.keras.models import Sequential\n",
    "from tensorflow.keras.layers import Dense, Dropout"
   ]
  },
  {
   "cell_type": "markdown",
   "metadata": {
    "id": "MPKcoQ1nMUYF"
   },
   "source": [
    "**Tâche : Construire un modèle séquentiel qui sera entraîné sur les données. Vous avez ici des options illimitées, mais voici ce que la solution utilise : un modèle schématisé ainsi : 78 --> 39 --> 19--> 1 neurone de sortie. Optionnel : Explorer l'ajout de [couches d'exclusion ou Drop Outs](https://keras.io/layers/core/) [1](https://en.wikipedia.org/wiki/Dropout_(neural_networks)) [2](https://towardsdatascience.com/machine-learning-part-20-dropout-keras-layers-explained-8c9f6dc4c9ab)**"
   ]
  },
  {
   "cell_type": "code",
   "execution_count": null,
   "metadata": {
    "id": "JaUhmcbpM3P8"
   },
   "outputs": [],
   "source": [
    "model = Sequential()\n",
    "\n",
    "# https://stats.stackexchange.com/questions/181/how-to-choose-the-number-of-hidden-layers-and-nodes-in-a-feedforward-neural-netw\n",
    "\n",
    "\n",
    "# input layer\n",
    "model.add(Dense(78,  activation='relu'))\n",
    "model.add(Dropout(0.2))\n",
    "\n",
    "# hidden layer\n",
    "model.add(Dense(39, activation='relu'))\n",
    "model.add(Dropout(0.2))\n",
    "\n",
    "# hidden layer\n",
    "model.add(Dense(19, activation='relu'))\n",
    "model.add(Dropout(0.2))\n",
    "\n",
    "# output layer\n",
    "model.add(Dense(units=1,activation='sigmoid'))\n",
    "\n",
    "# Compilation du modèle\n",
    "model.compile(loss='binary_crossentropy', optimizer='adam')"
   ]
  },
  {
   "cell_type": "markdown",
   "metadata": {
    "id": "ndET93MUNTBt"
   },
   "source": [
    "**Tâche : Adapter le modèle aux données d'entraînement pour au moins 25 Epochs. Ajoutez également les données de validation pour le traçage ultérieur. Facultatif : ajouter un batch_size de 256.**"
   ]
  },
  {
   "cell_type": "code",
   "execution_count": null,
   "metadata": {
    "colab": {
     "base_uri": "https://localhost:8080/",
     "height": 884
    },
    "executionInfo": {
     "elapsed": 115353,
     "status": "ok",
     "timestamp": 1594914142545,
     "user": {
      "displayName": "Rod Paris",
      "photoUrl": "",
      "userId": "10535238717210992784"
     },
     "user_tz": -120
    },
    "id": "LA5wDFU7Nai7",
    "outputId": "ee08433e-f812-43cf-9298-e805a4c12fd6"
   },
   "outputs": [
    {
     "name": "stdout",
     "output_type": "stream",
     "text": [
      "Epoch 1/25\n",
      "1236/1236 [==============================] - 3s 3ms/step - loss: 0.3003 - val_loss: 0.2647\n",
      "Epoch 2/25\n",
      "1236/1236 [==============================] - 3s 2ms/step - loss: 0.2654 - val_loss: 0.2629\n",
      "Epoch 3/25\n",
      "1236/1236 [==============================] - 3s 2ms/step - loss: 0.2630 - val_loss: 0.2623\n",
      "Epoch 4/25\n",
      "1236/1236 [==============================] - 3s 2ms/step - loss: 0.2617 - val_loss: 0.2620\n",
      "Epoch 5/25\n",
      "1236/1236 [==============================] - 3s 2ms/step - loss: 0.2609 - val_loss: 0.2620\n",
      "Epoch 6/25\n",
      "1236/1236 [==============================] - 3s 2ms/step - loss: 0.2603 - val_loss: 0.2616\n",
      "Epoch 7/25\n",
      "1236/1236 [==============================] - 3s 2ms/step - loss: 0.2599 - val_loss: 0.2615\n",
      "Epoch 8/25\n",
      "1236/1236 [==============================] - 3s 2ms/step - loss: 0.2596 - val_loss: 0.2614\n",
      "Epoch 9/25\n",
      "1236/1236 [==============================] - 3s 2ms/step - loss: 0.2591 - val_loss: 0.2616\n",
      "Epoch 10/25\n",
      "1236/1236 [==============================] - 3s 3ms/step - loss: 0.2589 - val_loss: 0.2616\n",
      "Epoch 11/25\n",
      "1236/1236 [==============================] - 3s 2ms/step - loss: 0.2587 - val_loss: 0.2616\n",
      "Epoch 12/25\n",
      "1236/1236 [==============================] - 3s 2ms/step - loss: 0.2584 - val_loss: 0.2613\n",
      "Epoch 13/25\n",
      "1236/1236 [==============================] - 3s 2ms/step - loss: 0.2581 - val_loss: 0.2612\n",
      "Epoch 14/25\n",
      "1236/1236 [==============================] - 3s 2ms/step - loss: 0.2580 - val_loss: 0.2615\n",
      "Epoch 15/25\n",
      "1236/1236 [==============================] - 3s 2ms/step - loss: 0.2579 - val_loss: 0.2617\n",
      "Epoch 16/25\n",
      "1236/1236 [==============================] - 3s 3ms/step - loss: 0.2574 - val_loss: 0.2613\n",
      "Epoch 17/25\n",
      "1236/1236 [==============================] - 3s 2ms/step - loss: 0.2572 - val_loss: 0.2615\n",
      "Epoch 18/25\n",
      "1236/1236 [==============================] - 3s 2ms/step - loss: 0.2573 - val_loss: 0.2611\n",
      "Epoch 19/25\n",
      "1236/1236 [==============================] - 3s 2ms/step - loss: 0.2568 - val_loss: 0.2612\n",
      "Epoch 20/25\n",
      "1236/1236 [==============================] - 3s 2ms/step - loss: 0.2565 - val_loss: 0.2612\n",
      "Epoch 21/25\n",
      "1236/1236 [==============================] - 3s 2ms/step - loss: 0.2567 - val_loss: 0.2616\n",
      "Epoch 22/25\n",
      "1236/1236 [==============================] - 3s 2ms/step - loss: 0.2562 - val_loss: 0.2611\n",
      "Epoch 23/25\n",
      "1236/1236 [==============================] - 3s 2ms/step - loss: 0.2563 - val_loss: 0.2620\n",
      "Epoch 24/25\n",
      "1236/1236 [==============================] - 3s 2ms/step - loss: 0.2560 - val_loss: 0.2612\n",
      "Epoch 25/25\n",
      "1236/1236 [==============================] - 3s 2ms/step - loss: 0.2560 - val_loss: 0.2612\n"
     ]
    },
    {
     "data": {
      "text/plain": [
       "<tensorflow.python.keras.callbacks.History at 0x7f1b2ae969b0>"
      ]
     },
     "execution_count": 138,
     "metadata": {
      "tags": []
     },
     "output_type": "execute_result"
    }
   ],
   "source": [
    "model.fit(x=X_train, \n",
    "          y=y_train, \n",
    "          epochs=25,\n",
    "          batch_size=256,\n",
    "          validation_data=(X_test, y_test), \n",
    "          )"
   ]
  },
  {
   "cell_type": "markdown",
   "metadata": {
    "id": "l6f7GnOLNd73"
   },
   "source": [
    "**Tâche facultative : Sauvegardez votre modèle.**"
   ]
  },
  {
   "cell_type": "code",
   "execution_count": null,
   "metadata": {
    "id": "XfOkOew9NiNj"
   },
   "outputs": [],
   "source": [
    "from tensorflow.keras.models import load_model"
   ]
  },
  {
   "cell_type": "code",
   "execution_count": null,
   "metadata": {
    "id": "0ERo1deVNifL"
   },
   "outputs": [],
   "source": [
    "model.save('full_data_project_model.h5')  "
   ]
  },
  {
   "cell_type": "markdown",
   "metadata": {
    "id": "1oeJw3aLOc7M"
   },
   "source": [
    "# Section 3 : Évaluation de la performance du modèle"
   ]
  },
  {
   "cell_type": "markdown",
   "metadata": {
    "id": "nCuCk0LBOhRz"
   },
   "source": [
    "**Tâche : Déterminer la perte sur la validation par rapport à la perte sur l'entraînement.**"
   ]
  },
  {
   "cell_type": "code",
   "execution_count": null,
   "metadata": {
    "id": "SXbsiZnSOqk5"
   },
   "outputs": [],
   "source": [
    "losses = pd.DataFrame(model.history.history)"
   ]
  },
  {
   "cell_type": "code",
   "execution_count": null,
   "metadata": {
    "colab": {
     "base_uri": "https://localhost:8080/",
     "height": 265
    },
    "executionInfo": {
     "elapsed": 115662,
     "status": "ok",
     "timestamp": 1594914143051,
     "user": {
      "displayName": "Rod Paris",
      "photoUrl": "",
      "userId": "10535238717210992784"
     },
     "user_tz": -120
    },
    "id": "civdW1uDOq9J",
    "outputId": "345ab1d7-07e9-4473-e5e6-7215520d179d"
   },
   "outputs": [
    {
     "data": {
      "image/png": "[encoded data removed]",
      "text/plain": [
       "<Figure size 432x288 with 1 Axes>"
      ]
     },
     "metadata": {
      "needs_background": "light",
      "tags": []
     },
     "output_type": "display_data"
    }
   ],
   "source": [
    "losses[['loss','val_loss']].plot();"
   ]
  },
  {
   "cell_type": "markdown",
   "metadata": {
    "id": "0drpBbUXOvgY"
   },
   "source": [
    "**Tâche : Créer des prédictions à partir de l'ensemble X_test et afficher un rapport de classification et une matrice de confusion pour l'ensemble X_test.**"
   ]
  },
  {
   "cell_type": "code",
   "execution_count": null,
   "metadata": {
    "id": "WqMZYbZ1Oza7"
   },
   "outputs": [],
   "source": [
    "from sklearn.metrics import classification_report,confusion_matrix"
   ]
  },
  {
   "cell_type": "code",
   "execution_count": null,
   "metadata": {
    "id": "ULv0ZAY3Ozpz"
   },
   "outputs": [],
   "source": [
    "predictions = (model.predict(X_test) > 0.5).astype('int32')"
   ]
  },
  {
   "cell_type": "code",
   "execution_count": null,
   "metadata": {
    "colab": {
     "base_uri": "https://localhost:8080/",
     "height": 170
    },
    "executionInfo": {
     "elapsed": 116898,
     "status": "ok",
     "timestamp": 1594914144340,
     "user": {
      "displayName": "Rod Paris",
      "photoUrl": "",
      "userId": "10535238717210992784"
     },
     "user_tz": -120
    },
    "id": "vBJyr6X_O1TO",
    "outputId": "08c88fc5-280b-48ca-d04a-d2eb45c2cf02"
   },
   "outputs": [
    {
     "name": "stdout",
     "output_type": "stream",
     "text": [
      "              precision    recall  f1-score   support\n",
      "\n",
      "           0       0.99      0.43      0.60     15658\n",
      "           1       0.88      1.00      0.93     63386\n",
      "\n",
      "    accuracy                           0.89     79044\n",
      "   macro avg       0.94      0.72      0.77     79044\n",
      "weighted avg       0.90      0.89      0.87     79044\n",
      "\n"
     ]
    }
   ],
   "source": [
    "print(classification_report(y_test,predictions))"
   ]
  },
  {
   "cell_type": "code",
   "execution_count": null,
   "metadata": {
    "colab": {
     "base_uri": "https://localhost:8080/",
     "height": 51
    },
    "executionInfo": {
     "elapsed": 116878,
     "status": "ok",
     "timestamp": 1594914144341,
     "user": {
      "displayName": "Rod Paris",
      "photoUrl": "",
      "userId": "10535238717210992784"
     },
     "user_tz": -120
    },
    "id": "twQgoUyiO2xD",
    "outputId": "c771810d-4d99-4376-d2c6-3a32b22303ab"
   },
   "outputs": [
    {
     "data": {
      "text/plain": [
       "array([[ 6782,  8876],\n",
       "       [   36, 63350]])"
      ]
     },
     "execution_count": 149,
     "metadata": {
      "tags": []
     },
     "output_type": "execute_result"
    }
   ],
   "source": [
    "confusion_matrix(y_test,predictions)"
   ]
  },
  {
   "cell_type": "markdown",
   "metadata": {
    "id": "nCB0LFyCO7iG"
   },
   "source": [
    "**Tâche : Compte tenu du client ci-dessous, proposeriez-vous à cette personne un prêt ?**"
   ]
  },
  {
   "cell_type": "code",
   "execution_count": null,
   "metadata": {
    "colab": {
     "base_uri": "https://localhost:8080/",
     "height": 221
    },
    "executionInfo": {
     "elapsed": 116858,
     "status": "ok",
     "timestamp": 1594914144342,
     "user": {
      "displayName": "Rod Paris",
      "photoUrl": "",
      "userId": "10535238717210992784"
     },
     "user_tz": -120
    },
    "id": "XLvJgOunO4sb",
    "outputId": "e609238c-328f-4c34-d0aa-ab86a49f7bd1"
   },
   "outputs": [
    {
     "data": {
      "text/plain": [
       "loan_amnt           25000.00\n",
       "term                   60.00\n",
       "int_rate               18.24\n",
       "installment           638.11\n",
       "annual_inc          61665.00\n",
       "                      ...   \n",
       "48052                   0.00\n",
       "70466                   0.00\n",
       "86630                   0.00\n",
       "93700                   0.00\n",
       "earliest_cr_year     1996.00\n",
       "Name: 305323, Length: 78, dtype: float64"
      ]
     },
     "execution_count": 150,
     "metadata": {
      "tags": []
     },
     "output_type": "execute_result"
    }
   ],
   "source": [
    "import random\n",
    "random.seed(101)\n",
    "random_ind = random.randint(0,len(df))\n",
    "\n",
    "new_customer = df.drop('loan_repaid',axis=1).iloc[random_ind]\n",
    "new_customer"
   ]
  },
  {
   "cell_type": "code",
   "execution_count": null,
   "metadata": {
    "id": "YZN2PdH3AnMC"
   },
   "outputs": [],
   "source": [
    "new_customer = scaler.transform(new_customer.values.reshape(1,78))"
   ]
  },
  {
   "cell_type": "code",
   "execution_count": null,
   "metadata": {
    "colab": {
     "base_uri": "https://localhost:8080/",
     "height": 34
    },
    "executionInfo": {
     "elapsed": 116793,
     "status": "ok",
     "timestamp": 1594914144343,
     "user": {
      "displayName": "Rod Paris",
      "photoUrl": "",
      "userId": "10535238717210992784"
     },
     "user_tz": -120
    },
    "id": "OTzhqB2TPCVx",
    "outputId": "80057133-3441-4923-8bae-42d0657fe985"
   },
   "outputs": [
    {
     "data": {
      "text/plain": [
       "array([[1]], dtype=int32)"
      ]
     },
     "execution_count": 152,
     "metadata": {
      "tags": []
     },
     "output_type": "execute_result"
    }
   ],
   "source": [
    "(model.predict(new_customer) > 0.5).astype('int32')"
   ]
  },
  {
   "cell_type": "markdown",
   "metadata": {
    "id": "2vhil0iEPFa2"
   },
   "source": [
    "**Tâche : Vérifiez si cette personne a vraiment fini par rembourser son prêt ?**"
   ]
  },
  {
   "cell_type": "code",
   "execution_count": null,
   "metadata": {
    "colab": {
     "base_uri": "https://localhost:8080/",
     "height": 34
    },
    "executionInfo": {
     "elapsed": 117269,
     "status": "ok",
     "timestamp": 1594914144856,
     "user": {
      "displayName": "Rod Paris",
      "photoUrl": "",
      "userId": "10535238717210992784"
     },
     "user_tz": -120
    },
    "id": "FqEmAFyBPMip",
    "outputId": "fb24a5a3-b0d9-4da9-d44c-4209e8baa53d"
   },
   "outputs": [
    {
     "data": {
      "text/plain": [
       "1.0"
      ]
     },
     "execution_count": 154,
     "metadata": {
      "tags": []
     },
     "output_type": "execute_result"
    }
   ],
   "source": [
    "df.iloc[random_ind]['loan_repaid']"
   ]
  }
 ],
 "metadata": {
  "colab": {
   "authorship_tag": "ABX9TyMBSS9spFE0AM32MNHb+DLa",
   "name": "04-Solutions-Exercice-Projet-Keras.ipynb",
   "provenance": []
  },
  "kernelspec": {
   "display_name": "Python 3 (ipykernel)",
   "language": "python",
   "name": "python3"
  },
  "language_info": {
   "codemirror_mode": {
    "name": "ipython",
    "version": 3
   },
   "file_extension": ".py",
   "mimetype": "text/x-python",
   "name": "python",
   "nbconvert_exporter": "python",
   "pygments_lexer": "ipython3",
   "version": "3.11.3"
  }
 },
 "nbformat": 4,
 "nbformat_minor": 1
}
